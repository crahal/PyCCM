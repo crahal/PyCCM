{
 "cells": [
  {
   "cell_type": "markdown",
   "id": "d54d3647-0c01-4e35-be68-0abf030a5ce4",
   "metadata": {},
   "source": [
    "# Demographic Research Methods and the PyCCM Library\n",
    "## Computer Lab 1: An Introduction to Python for PyCCM\n",
    "## Instructor: Jiani Yan\n",
    "## Date: October 27th, 2025\n",
    "---\n",
    "\n",
    "In this class, we are going to learn about the basic building blocks of Python. We will try to finish both sections in the class, but it might be that Section 2 should be done as a 'class homework'. Section 1 will be live coded. Solutions for Section 2 will either be presented at the start of the second day, or at the end of the class, time permitting."
   ]
  },
  {
   "cell_type": "markdown",
   "id": "fa7d7d20-5e7a-41cb-8afc-fd1355ea207a",
   "metadata": {},
   "source": [
    "## 1. Section 1: To be taught by JY\n",
    "---"
   ]
  },
  {
   "cell_type": "code",
   "execution_count": 2,
   "id": "bb51fd2ccecd4b97",
   "metadata": {
    "ExecuteTime": {
     "end_time": "2025-10-27T17:32:49.365196Z",
     "start_time": "2025-10-27T17:32:49.360305Z"
    }
   },
   "outputs": [
    {
     "name": "stdout",
     "output_type": "stream",
     "text": [
      "/Users/valler/Python/PyCCM/course/labs/questions\n",
      "/Users/valler/Python/PyCCM/course/labs/files\n"
     ]
    }
   ],
   "source": [
    "from pathlib import Path\n",
    "lab = Path.cwd().parent/'files'\n",
    "\n",
    "print(Path.cwd())\n",
    "print(lab)\n"
   ]
  },
  {
   "cell_type": "markdown",
   "id": "1c433ee4-94fa-496e-98e6-3e5eda87f8a7",
   "metadata": {},
   "source": [
    "#### 1.1 Whats a float? Whats an int?"
   ]
  },
  {
   "cell_type": "code",
   "execution_count": 3,
   "id": "94cd497c-4be2-46f3-8223-f61df0807597",
   "metadata": {},
   "outputs": [
    {
     "name": "stdout",
     "output_type": "stream",
     "text": [
      "<class 'int'>\n"
     ]
    }
   ],
   "source": [
    "# <Your answer goes here>\n",
    "population = 100000\n",
    "print(type(population))"
   ]
  },
  {
   "cell_type": "code",
   "execution_count": 4,
   "id": "652f240e-773a-4d7f-ba6c-0b2a2a6758d0",
   "metadata": {},
   "outputs": [
    {
     "name": "stdout",
     "output_type": "stream",
     "text": [
      "<class 'float'>\n"
     ]
    }
   ],
   "source": [
    "birth_rate=2.5\n",
    "print(type(birth_rate))"
   ]
  },
  {
   "cell_type": "markdown",
   "id": "7e410510-c61f-485c-a78e-9037dcfba71e",
   "metadata": {},
   "source": [
    "#### 1.1.1 What common arithmetic operators can we use on them?"
   ]
  },
  {
   "cell_type": "code",
   "execution_count": 5,
   "id": "13f647b8-6e5b-4f45-8be2-73671a8e66a9",
   "metadata": {},
   "outputs": [
    {
     "name": "stdout",
     "output_type": "stream",
     "text": [
      "15\n",
      "5\n",
      "50\n",
      "2.0\n",
      "100\n"
     ]
    }
   ],
   "source": [
    "# <Your answer goes here>\n",
    "print(10+5)\n",
    "print(10-5)\n",
    "print(10*5)\n",
    "print(10/5)\n",
    "print(10**2)"
   ]
  },
  {
   "cell_type": "markdown",
   "id": "4ccb73df-fdd6-4ed4-b18c-994f1e950932",
   "metadata": {},
   "source": [
    "#### 1.1.2. Is 2/1 an int or a float? Why?"
   ]
  },
  {
   "cell_type": "code",
   "execution_count": 6,
   "id": "89554b7a-e52a-46c3-ab11-b1fda8d57c23",
   "metadata": {},
   "outputs": [],
   "source": [
    "# <Your answer goes here>\n",
    "result = 2/1"
   ]
  },
  {
   "cell_type": "code",
   "execution_count": 7,
   "id": "cc766157",
   "metadata": {},
   "outputs": [
    {
     "name": "stdout",
     "output_type": "stream",
     "text": [
      "2.0\n",
      "<class 'float'>\n"
     ]
    }
   ],
   "source": [
    "print(result)        # 2.0\n",
    "print(type(result))"
   ]
  },
  {
   "cell_type": "markdown",
   "id": "a0f21411-abab-48b9-b3e6-415518e7150e",
   "metadata": {},
   "source": [
    "### 1.2 How do we print things?"
   ]
  },
  {
   "cell_type": "code",
   "execution_count": 9,
   "id": "0d671f93-b10a-404b-a57d-1713771f1b65",
   "metadata": {},
   "outputs": [
    {
     "name": "stdout",
     "output_type": "stream",
     "text": [
      "Hola colombia\n"
     ]
    }
   ],
   "source": [
    "# <Your answer goes here>\n",
    "words=\"colombia\"\n",
    "print(\"Hola\",words)"
   ]
  },
  {
   "cell_type": "markdown",
   "id": "a45e052c-231c-4321-b7dc-d63dd9e92358",
   "metadata": {},
   "source": [
    "### 1.3 How do we assign things?"
   ]
  },
  {
   "cell_type": "code",
   "execution_count": 10,
   "id": "ac89fb0e-db03-47d5-a3b5-eb775d764816",
   "metadata": {},
   "outputs": [
    {
     "data": {
      "text/plain": [
       "'colombia'"
      ]
     },
     "execution_count": 10,
     "metadata": {},
     "output_type": "execute_result"
    }
   ],
   "source": [
    "# <Your answer goes here>\n",
    "words"
   ]
  },
  {
   "cell_type": "markdown",
   "id": "33e9e586-5187-4451-9310-1493a802bd59",
   "metadata": {},
   "source": [
    "### 1.4 What's a character set?"
   ]
  },
  {
   "cell_type": "code",
   "execution_count": 12,
   "id": "46358d3a-48b5-44e7-b57c-c39ea8fff96c",
   "metadata": {},
   "outputs": [
    {
     "data": {
      "text/plain": [
       "'☺️'"
      ]
     },
     "execution_count": 12,
     "metadata": {},
     "output_type": "execute_result"
    }
   ],
   "source": [
    "# <Your answer goes here>\n",
    "emoji = \"☺️\"\n",
    "emoji"
   ]
  },
  {
   "cell_type": "markdown",
   "id": "4d7e7070-a9f8-49f8-adfc-046ea38849d0",
   "metadata": {},
   "source": [
    "### 1.5 What's a string?"
   ]
  },
  {
   "cell_type": "code",
   "execution_count": 7,
   "id": "8b25894b-2172-405a-ab88-518aa396910e",
   "metadata": {},
   "outputs": [],
   "source": [
    "# <Your answer goes here>"
   ]
  },
  {
   "cell_type": "markdown",
   "id": "e006f841-b231-40b8-8805-c61b0e84b079",
   "metadata": {},
   "source": [
    "#### 1.5.1 How do we slice strings?"
   ]
  },
  {
   "cell_type": "code",
   "execution_count": 14,
   "id": "17abb4fb",
   "metadata": {},
   "outputs": [],
   "source": [
    "age_range = \"25-29\""
   ]
  },
  {
   "cell_type": "code",
   "execution_count": 15,
   "id": "cb205be1-af49-4edb-92ef-7793a1802779",
   "metadata": {},
   "outputs": [],
   "source": [
    "# <Your answer goes here>\n",
    "first_part = age_range[0:2]\n",
    "second_part = age_range[3:5]"
   ]
  },
  {
   "cell_type": "code",
   "execution_count": 17,
   "id": "ae3d0490-c7e6-47d6-826b-506e45115720",
   "metadata": {},
   "outputs": [
    {
     "data": {
      "text/plain": [
       "'2'"
      ]
     },
     "execution_count": 17,
     "metadata": {},
     "output_type": "execute_result"
    }
   ],
   "source": [
    "age_range[3:4]"
   ]
  },
  {
   "cell_type": "code",
   "execution_count": 16,
   "id": "5272e951",
   "metadata": {},
   "outputs": [
    {
     "name": "stdout",
     "output_type": "stream",
     "text": [
      "Ages 25 to 29\n"
     ]
    }
   ],
   "source": [
    "print(f\"Ages {first_part} to {second_part}\")"
   ]
  },
  {
   "cell_type": "code",
   "execution_count": 21,
   "id": "c44a8675-0a2d-486c-9a71-05690328ff76",
   "metadata": {},
   "outputs": [
    {
     "data": {
      "text/plain": [
       "'9'"
      ]
     },
     "execution_count": 21,
     "metadata": {},
     "output_type": "execute_result"
    }
   ],
   "source": [
    "age_range[-1]"
   ]
  },
  {
   "cell_type": "code",
   "execution_count": 22,
   "id": "35b054f7-6099-41b5-a2d1-071d601e8670",
   "metadata": {},
   "outputs": [
    {
     "data": {
      "text/plain": [
       "'25'"
      ]
     },
     "execution_count": 22,
     "metadata": {},
     "output_type": "execute_result"
    }
   ],
   "source": [
    "age_range[:2]"
   ]
  },
  {
   "cell_type": "markdown",
   "id": "4cfb92eb-7d95-441e-a08e-561f34d1e285",
   "metadata": {},
   "source": [
    "#### 1.5.2 What are some common string methods?"
   ]
  },
  {
   "cell_type": "code",
   "execution_count": 23,
   "id": "6f7b7229",
   "metadata": {},
   "outputs": [],
   "source": [
    "country = \"  Mexico  \""
   ]
  },
  {
   "cell_type": "code",
   "execution_count": 24,
   "id": "d43806a0-d1a0-4121-bc29-0933a937ed52",
   "metadata": {},
   "outputs": [
    {
     "data": {
      "text/plain": [
       "'Mexico'"
      ]
     },
     "execution_count": 24,
     "metadata": {},
     "output_type": "execute_result"
    }
   ],
   "source": [
    "# <Your answer goes here>\n",
    "country.strip() # removes all the spaces"
   ]
  },
  {
   "cell_type": "code",
   "execution_count": 25,
   "id": "4d521dc0-e152-445a-b916-d523a700836b",
   "metadata": {},
   "outputs": [
    {
     "data": {
      "text/plain": [
       "'  MEXICO  '"
      ]
     },
     "execution_count": 25,
     "metadata": {},
     "output_type": "execute_result"
    }
   ],
   "source": [
    "country.upper()"
   ]
  },
  {
   "cell_type": "code",
   "execution_count": 26,
   "id": "5b00a341-de0e-415e-85be-ae0ecc0a07a8",
   "metadata": {},
   "outputs": [
    {
     "data": {
      "text/plain": [
       "'  mexico  '"
      ]
     },
     "execution_count": 26,
     "metadata": {},
     "output_type": "execute_result"
    }
   ],
   "source": [
    "country.lower()"
   ]
  },
  {
   "cell_type": "code",
   "execution_count": 29,
   "id": "394b6d34-22f6-466b-980e-9f9fbe01fc74",
   "metadata": {},
   "outputs": [
    {
     "data": {
      "text/plain": [
       "'Colombia'"
      ]
     },
     "execution_count": 29,
     "metadata": {},
     "output_type": "execute_result"
    }
   ],
   "source": [
    "country.replace(\"Mexico\",'Colombia').replace(' ','')"
   ]
  },
  {
   "cell_type": "code",
   "execution_count": 33,
   "id": "f0180a2a-eb1a-4072-95f1-52cb1ca1b1ce",
   "metadata": {},
   "outputs": [
    {
     "data": {
      "text/plain": [
       "'Mexico\"'"
      ]
     },
     "execution_count": 33,
     "metadata": {},
     "output_type": "execute_result"
    }
   ],
   "source": [
    "'Mexico\"'"
   ]
  },
  {
   "cell_type": "markdown",
   "id": "2b7fdcb7-4d0c-49ea-bb10-88423ec653a3",
   "metadata": {},
   "source": [
    "#### 1.5.3 How do we join and split strings?\n",
    "\n"
   ]
  },
  {
   "cell_type": "code",
   "execution_count": 34,
   "id": "eb6154fb",
   "metadata": {},
   "outputs": [],
   "source": [
    "ages =  \"0-14,15-64,65+\""
   ]
  },
  {
   "cell_type": "code",
   "execution_count": 35,
   "id": "8055372e-1104-407b-8f47-0f4ec27667ee",
   "metadata": {},
   "outputs": [
    {
     "data": {
      "text/plain": [
       "['0-14', '15-64', '65+']"
      ]
     },
     "execution_count": 35,
     "metadata": {},
     "output_type": "execute_result"
    }
   ],
   "source": [
    "# <Your answer goes here>\n",
    "ages.split(\",\")"
   ]
  },
  {
   "cell_type": "code",
   "execution_count": 40,
   "id": "b9897c95-09c7-43e2-bbb4-4a303fdb5722",
   "metadata": {},
   "outputs": [
    {
     "data": {
      "text/plain": [
       "'1;2;3'"
      ]
     },
     "execution_count": 40,
     "metadata": {},
     "output_type": "execute_result"
    }
   ],
   "source": [
    "lst= ['1','2','3'] \n",
    "';'.join(lst)"
   ]
  },
  {
   "cell_type": "markdown",
   "id": "cc64ceed-1416-4f0d-bb8f-9a02d0b8375b",
   "metadata": {},
   "source": [
    "### 1.6. What's a collection?"
   ]
  },
  {
   "cell_type": "code",
   "execution_count": 51,
   "id": "c49fd928-47da-4f82-a03b-725a8746a688",
   "metadata": {},
   "outputs": [
    {
     "data": {
      "text/plain": [
       "[1, 2, 3, 5]"
      ]
     },
     "execution_count": 51,
     "metadata": {},
     "output_type": "execute_result"
    }
   ],
   "source": [
    "# <Your answer goes here>\n",
    "# list example \n",
    "lst = [1,2,3,5] \n",
    "lst"
   ]
  },
  {
   "cell_type": "code",
   "execution_count": 48,
   "id": "bdc7113f-2b0d-4d04-b1e2-53b6ccce0063",
   "metadata": {},
   "outputs": [
    {
     "data": {
      "text/plain": [
       "3"
      ]
     },
     "execution_count": 48,
     "metadata": {},
     "output_type": "execute_result"
    }
   ],
   "source": [
    "lst[-2]"
   ]
  },
  {
   "cell_type": "code",
   "execution_count": 49,
   "id": "da5e3b35-7cf3-401f-a6a4-99338fb3772e",
   "metadata": {},
   "outputs": [
    {
     "data": {
      "text/plain": [
       "4"
      ]
     },
     "execution_count": 49,
     "metadata": {},
     "output_type": "execute_result"
    }
   ],
   "source": [
    "len(lst)"
   ]
  },
  {
   "cell_type": "code",
   "execution_count": 52,
   "id": "0ab0ddc0-2ddf-4e57-942a-3b82b3b873a4",
   "metadata": {},
   "outputs": [
    {
     "data": {
      "text/plain": [
       "11"
      ]
     },
     "execution_count": 52,
     "metadata": {},
     "output_type": "execute_result"
    }
   ],
   "source": [
    "sum(lst)"
   ]
  },
  {
   "cell_type": "code",
   "execution_count": 53,
   "id": "c8897e71-1db4-4c8b-bdc7-e508fcde2dae",
   "metadata": {},
   "outputs": [
    {
     "data": {
      "text/plain": [
       "5"
      ]
     },
     "execution_count": 53,
     "metadata": {},
     "output_type": "execute_result"
    }
   ],
   "source": [
    "max(lst)"
   ]
  },
  {
   "cell_type": "code",
   "execution_count": 54,
   "id": "d8906571-1b45-418b-9814-1a0d82b0defb",
   "metadata": {},
   "outputs": [
    {
     "data": {
      "text/plain": [
       "1"
      ]
     },
     "execution_count": 54,
     "metadata": {},
     "output_type": "execute_result"
    }
   ],
   "source": [
    "min(lst)"
   ]
  },
  {
   "cell_type": "code",
   "execution_count": 43,
   "id": "798d5fbb-15f8-4ded-9472-ee207ae2a649",
   "metadata": {},
   "outputs": [],
   "source": [
    "# tuple example \n",
    "coordinates = (40.7128, -74.0060)\n"
   ]
  },
  {
   "cell_type": "code",
   "execution_count": null,
   "id": "7ce5a141-5554-4ed9-b4ce-56ae9d5b59b7",
   "metadata": {},
   "outputs": [],
   "source": [
    "import numpy as np"
   ]
  },
  {
   "cell_type": "code",
   "execution_count": 58,
   "id": "08c89614-bba7-4cfd-bc8d-6b4da2a7ae21",
   "metadata": {},
   "outputs": [
    {
     "data": {
      "text/plain": [
       "-74.006"
      ]
     },
     "execution_count": 58,
     "metadata": {},
     "output_type": "execute_result"
    }
   ],
   "source": [
    "min(coordinates)"
   ]
  },
  {
   "cell_type": "code",
   "execution_count": 55,
   "id": "cab9eba4-40ff-44be-b099-a84163395331",
   "metadata": {},
   "outputs": [
    {
     "data": {
      "text/plain": [
       "40.7128"
      ]
     },
     "execution_count": 55,
     "metadata": {},
     "output_type": "execute_result"
    }
   ],
   "source": [
    "coordinates[0]"
   ]
  },
  {
   "cell_type": "code",
   "execution_count": 61,
   "id": "0570527e-7711-4a58-812e-7706f722f757",
   "metadata": {},
   "outputs": [],
   "source": [
    "# dictionary \n",
    "rates = {'birth': 12.5,\n",
    "         'death':8.3,\n",
    "        \"words\":\"1bajasey\",\n",
    "        \"list\":[1,2,5]}"
   ]
  },
  {
   "cell_type": "code",
   "execution_count": 62,
   "id": "f4b5c39a-0192-47c4-b391-8c0a6babe224",
   "metadata": {},
   "outputs": [
    {
     "data": {
      "text/plain": [
       "[1, 2, 5]"
      ]
     },
     "execution_count": 62,
     "metadata": {},
     "output_type": "execute_result"
    }
   ],
   "source": [
    "rates['list'] # accessing the value paired with the key"
   ]
  },
  {
   "cell_type": "code",
   "execution_count": 63,
   "id": "f7cf4db3-2d77-4baa-85b9-614829aedcc7",
   "metadata": {},
   "outputs": [
    {
     "data": {
      "text/plain": [
       "dict_keys(['birth', 'death', 'words', 'list'])"
      ]
     },
     "execution_count": 63,
     "metadata": {},
     "output_type": "execute_result"
    }
   ],
   "source": [
    "rates.keys()"
   ]
  },
  {
   "cell_type": "code",
   "execution_count": 64,
   "id": "b38e4d51-be79-46d4-85f5-d01060add3ef",
   "metadata": {},
   "outputs": [
    {
     "data": {
      "text/plain": [
       "dict_values([12.5, 8.3, '1bajasey', [1, 2, 5]])"
      ]
     },
     "execution_count": 64,
     "metadata": {},
     "output_type": "execute_result"
    }
   ],
   "source": [
    "rates.values()"
   ]
  },
  {
   "cell_type": "markdown",
   "id": "14975690-bd2b-410d-8eca-5a6e56fd770e",
   "metadata": {},
   "source": [
    "#### 1.6.1 What's a list?"
   ]
  },
  {
   "cell_type": "code",
   "execution_count": 12,
   "id": "1901f37c-a6de-4b86-b8dd-ad2123b3e184",
   "metadata": {},
   "outputs": [],
   "source": [
    "# <Your answer goes here>\n",
    "\n"
   ]
  },
  {
   "cell_type": "markdown",
   "id": "61c224b0-3901-4d40-a460-bfe23584a801",
   "metadata": {},
   "source": [
    "#### 1.6.2 What's a dictionary?"
   ]
  },
  {
   "cell_type": "code",
   "execution_count": 13,
   "id": "ebb53de8-7803-4f0a-be32-1d823bcde5e2",
   "metadata": {},
   "outputs": [],
   "source": [
    "# <Your answer goes here>"
   ]
  },
  {
   "cell_type": "markdown",
   "id": "8e543e24-30c8-4cf3-ac82-b78cf715553d",
   "metadata": {},
   "source": [
    "#### 1.6.3 What's a tuple?"
   ]
  },
  {
   "cell_type": "code",
   "execution_count": 14,
   "id": "9c2468bc-dbf2-447d-9329-c407bf283080",
   "metadata": {},
   "outputs": [],
   "source": [
    "# <Your answer goes here>"
   ]
  },
  {
   "cell_type": "markdown",
   "id": "4df4c15b-156b-4608-8429-dd323823d1f8",
   "metadata": {},
   "source": [
    "#### 1.6.4 How do these things differ?"
   ]
  },
  {
   "cell_type": "code",
   "execution_count": 15,
   "id": "e7ac41f5-22ad-4d28-be9c-507dee721685",
   "metadata": {},
   "outputs": [],
   "source": [
    "# <Your answer goes here>"
   ]
  },
  {
   "cell_type": "markdown",
   "id": "3bb8f859-ef44-48aa-87c4-15984fde864b",
   "metadata": {},
   "source": [
    "### 1.7. What's an iteration?"
   ]
  },
  {
   "cell_type": "code",
   "execution_count": 69,
   "id": "14e0f4a3-7326-41fe-b6dc-e109928223b6",
   "metadata": {},
   "outputs": [
    {
     "name": "stdout",
     "output_type": "stream",
     "text": [
      "original population: 100\n",
      "600\n",
      "1\n",
      "2\n",
      "original population: 200\n",
      "700\n",
      "1\n",
      "2\n",
      "original population: 300\n",
      "800\n",
      "1\n",
      "2\n"
     ]
    }
   ],
   "source": [
    "# <Your answer goes here>\n",
    "populations = [100,200,300] \n",
    "for pop in populations:\n",
    "    print(f\"original population: {pop}\")\n",
    "    print(pop+500)\n",
    "    for a in ['1','2']:\n",
    "        print(a)"
   ]
  },
  {
   "cell_type": "markdown",
   "id": "3f84c4b5-2663-4673-9abf-95d56efcff60",
   "metadata": {},
   "source": [
    "#### 1.7.1. How does indentation in Python work?"
   ]
  },
  {
   "cell_type": "code",
   "execution_count": 17,
   "id": "920a3560-1654-4780-b722-a296873e5856",
   "metadata": {},
   "outputs": [],
   "source": [
    "# <Your answer goes here>"
   ]
  },
  {
   "cell_type": "markdown",
   "id": "ba8f8afe-0a85-45b4-8a54-cfb2b943ed91",
   "metadata": {},
   "source": [
    "#### 1.7.2 How can we iterate over a collection?"
   ]
  },
  {
   "cell_type": "code",
   "execution_count": 18,
   "id": "b8ea253c-0361-4bc9-b272-9a3e2f45fd3c",
   "metadata": {},
   "outputs": [],
   "source": [
    "# <Your answer goes here>\n"
   ]
  },
  {
   "cell_type": "markdown",
   "id": "65a97787-3876-4b45-8b77-0a21e891b4c0",
   "metadata": {},
   "source": [
    "#### 1.7.3 How can we iterate over multiple collections simultaneously?\n"
   ]
  },
  {
   "cell_type": "code",
   "execution_count": 70,
   "id": "1bf48632",
   "metadata": {},
   "outputs": [],
   "source": [
    "countries = ['USA', 'Canada', 'Mexico']\n",
    "populations = [331000000, 38000000, 128000000]"
   ]
  },
  {
   "cell_type": "code",
   "execution_count": 75,
   "id": "9a4b05af-1cb3-46dc-b34c-0965d3cd41f1",
   "metadata": {},
   "outputs": [
    {
     "name": "stdout",
     "output_type": "stream",
     "text": [
      "USA: 331000000\n",
      "Canada: 38000000\n",
      "Mexico: 128000000\n"
     ]
    }
   ],
   "source": [
    "# <Your answer goes here>\n",
    "for country,pop in zip(countries,populations):\n",
    "    print(f\"{country}: {pop}\")"
   ]
  },
  {
   "cell_type": "markdown",
   "id": "bda688da-e41a-47a3-a779-f69cfd559c2e",
   "metadata": {},
   "source": [
    "### 1.8. What's Boolean Logic?"
   ]
  },
  {
   "cell_type": "code",
   "execution_count": 76,
   "id": "eb3f1a45-373c-4d30-a603-ee0348da4fc6",
   "metadata": {},
   "outputs": [],
   "source": [
    "# <Your answer goes here>\n",
    "birth_rate = 12.5 \n",
    "death_rate = 8.3 \n",
    "is_growing = birth_rate>death_rate"
   ]
  },
  {
   "cell_type": "code",
   "execution_count": 77,
   "id": "30455049",
   "metadata": {},
   "outputs": [
    {
     "name": "stdout",
     "output_type": "stream",
     "text": [
      "Population growing: True\n"
     ]
    }
   ],
   "source": [
    "print(f\"Population growing: {is_growing}\") "
   ]
  },
  {
   "cell_type": "code",
   "execution_count": 78,
   "id": "6e8038b5-945e-4340-afae-824d80ee0960",
   "metadata": {},
   "outputs": [
    {
     "name": "stdout",
     "output_type": "stream",
     "text": [
      "True\n"
     ]
    }
   ],
   "source": [
    "print(5>3)"
   ]
  },
  {
   "cell_type": "code",
   "execution_count": 79,
   "id": "3abcad5e-12de-44c9-8d06-77f75df655d3",
   "metadata": {},
   "outputs": [
    {
     "name": "stdout",
     "output_type": "stream",
     "text": [
      "False\n"
     ]
    }
   ],
   "source": [
    "print(5>6)"
   ]
  },
  {
   "cell_type": "code",
   "execution_count": 80,
   "id": "ae9750e9-7eb4-4a49-80e9-fb0c2e23535b",
   "metadata": {},
   "outputs": [
    {
     "name": "stdout",
     "output_type": "stream",
     "text": [
      "True\n"
     ]
    }
   ],
   "source": [
    "print(5!=3)"
   ]
  },
  {
   "cell_type": "markdown",
   "id": "a1d08d31-7fe7-49a4-8671-e27fe1d6a9b5",
   "metadata": {},
   "source": [
    "#### 1.8.1 How can we control flow in Python?"
   ]
  },
  {
   "cell_type": "code",
   "execution_count": 83,
   "id": "a9e4a2fe-ef41-411d-a80e-bde5f4a235e6",
   "metadata": {},
   "outputs": [
    {
     "name": "stdout",
     "output_type": "stream",
     "text": [
      "Minor\n"
     ]
    }
   ],
   "source": [
    "# if-else: choose between options\n",
    "age = 13\n",
    "\n",
    "if age > 18:\n",
    "    print(\"Adult\")\n",
    "else:\n",
    "    print('Minor')"
   ]
  },
  {
   "cell_type": "code",
   "execution_count": 84,
   "id": "977121bb",
   "metadata": {},
   "outputs": [
    {
     "name": "stdout",
     "output_type": "stream",
     "text": [
      "medium village\n"
     ]
    }
   ],
   "source": [
    "# if-elif-else: multiple conditions\n",
    "pop = 100 \n",
    "if pop > 200:\n",
    "    print(\"large village\")\n",
    "elif pop<100:\n",
    "    print(\"small village\")\n",
    "else: \n",
    "    print(\"medium village\")"
   ]
  },
  {
   "cell_type": "code",
   "execution_count": 85,
   "id": "be3990d5",
   "metadata": {},
   "outputs": [
    {
     "name": "stdout",
     "output_type": "stream",
     "text": [
      "Adult\n"
     ]
    }
   ],
   "source": [
    "# One-line version\n",
    "age = 20\n",
    "status = \"Adult\" if age>=18 else \"Minor\"\n",
    "print(status)"
   ]
  },
  {
   "cell_type": "markdown",
   "id": "88d926c5-707a-482d-9bec-f76307a12b7c",
   "metadata": {},
   "source": [
    "#### 1.8.2 How can we combine iteration and control in Python?"
   ]
  },
  {
   "cell_type": "code",
   "execution_count": 88,
   "id": "6bc6f3f4-a794-4d74-9f57-7aa959570bd6",
   "metadata": {},
   "outputs": [
    {
     "name": "stdout",
     "output_type": "stream",
     "text": [
      "medium village\n",
      "medium village\n",
      "big village\n"
     ]
    }
   ],
   "source": [
    "# Combine for loops with if statements\n",
    "population = [100,200,300] \n",
    "\n",
    "for pop in population: \n",
    "    if pop > 200:\n",
    "        print(\"big village\")\n",
    "    elif pop < 100:\n",
    "        print(\"small village\")\n",
    "    else:\n",
    "        print(\"medium village\")"
   ]
  },
  {
   "cell_type": "code",
   "execution_count": 89,
   "id": "6ac3477d",
   "metadata": {},
   "outputs": [
    {
     "name": "stdout",
     "output_type": "stream",
     "text": [
      "age 35 is working age\n"
     ]
    }
   ],
   "source": [
    "# Process only certain items\n",
    "ages= [2,5,35,57,75] \n",
    "\n",
    "for age in ages:\n",
    "    if 15 <= age <57:\n",
    "        print(f\"age {age} is working age\")\n",
    "        "
   ]
  },
  {
   "cell_type": "markdown",
   "id": "5d65d7a0-2b9b-4cfd-8b20-fa85ad1aad42",
   "metadata": {},
   "source": [
    "#### 1.8.3 How do while loops work?"
   ]
  },
  {
   "cell_type": "code",
   "execution_count": 92,
   "id": "7f7e1c9f-25b6-46dc-b6f0-f9037f551ca7",
   "metadata": {},
   "outputs": [
    {
     "name": "stdout",
     "output_type": "stream",
     "text": [
      "population will be doubled in 36 years\n"
     ]
    }
   ],
   "source": [
    "# <Your answer goes here>\n",
    "population = 100 \n",
    "year = 0 \n",
    "\n",
    "while population < 200:\n",
    "    population = population  *  1.02\n",
    "    year +=1 # year = year+1 \n",
    "    \n",
    "print(f\"population will be doubled in {year} years\")"
   ]
  },
  {
   "cell_type": "code",
   "execution_count": 95,
   "id": "cea3e522-e134-482f-b5a7-99c33aa81b71",
   "metadata": {},
   "outputs": [
    {
     "data": {
      "text/plain": [
       "102.0"
      ]
     },
     "execution_count": 95,
     "metadata": {},
     "output_type": "execute_result"
    }
   ],
   "source": [
    "population=100\n",
    "population*=1.02\n",
    "population"
   ]
  },
  {
   "cell_type": "code",
   "execution_count": 93,
   "id": "9fbef02b",
   "metadata": {},
   "outputs": [
    {
     "name": "stdout",
     "output_type": "stream",
     "text": [
      "Population doubled in 36 years\n"
     ]
    }
   ],
   "source": [
    "print(f\"Population doubled in {year} years\")"
   ]
  },
  {
   "cell_type": "markdown",
   "id": "9f3b5a40-1e1a-4bea-99ae-7b46a1a49b24",
   "metadata": {},
   "source": [
    "#### 1.8.4 How can we continue if a condition is met?"
   ]
  },
  {
   "cell_type": "code",
   "execution_count": 97,
   "id": "b002b49b-889f-45fe-a7a9-46b7a27a8aa7",
   "metadata": {},
   "outputs": [
    {
     "name": "stdout",
     "output_type": "stream",
     "text": [
      "0\n",
      "1\n",
      "2\n",
      "3\n",
      "4\n"
     ]
    }
   ],
   "source": [
    "for i in range(5):\n",
    "    print(i)"
   ]
  },
  {
   "cell_type": "code",
   "execution_count": 98,
   "id": "e83e8ccd-2e45-4c20-87d7-e3b01d4e3b5f",
   "metadata": {},
   "outputs": [
    {
     "name": "stdout",
     "output_type": "stream",
     "text": [
      "0\n",
      "1\n",
      "3\n",
      "4\n"
     ]
    }
   ],
   "source": [
    "# <Your answer goes here>\n",
    "\n",
    "for i in range(5):\n",
    "    if i == 2: \n",
    "        continue \n",
    "    print(i) "
   ]
  },
  {
   "cell_type": "markdown",
   "id": "583022f6-342c-4e0c-bb45-7541460d0c49",
   "metadata": {},
   "source": [
    "#### 1.8.5 How can we break out of a loop at a specific point in time?"
   ]
  },
  {
   "cell_type": "code",
   "execution_count": 106,
   "id": "a806d2fb-a222-41f6-b03e-e86ba7519e3d",
   "metadata": {},
   "outputs": [
    {
     "name": "stdout",
     "output_type": "stream",
     "text": [
      "checking 1, 0 th element..\n",
      "checking 3, 1 th element..\n",
      "checking 5, 2 th element..\n",
      "Found 7! at 3\n"
     ]
    }
   ],
   "source": [
    "# <Your answer goes here>\n",
    "numbers = [1,3,5,7,8]\n",
    "for ind,num in enumerate(numbers):\n",
    "    if num == 7:\n",
    "        print(f\"Found 7! at {ind}\")\n",
    "        break\n",
    "    print(f\"checking {num}, {ind} th element..\")"
   ]
  },
  {
   "cell_type": "markdown",
   "id": "67f0fa8b-27db-4ef5-bdba-3a7bf7c61c34",
   "metadata": {},
   "source": [
    "### 1.9. How can we handle errors with 'try' and 'except'?"
   ]
  },
  {
   "cell_type": "code",
   "execution_count": 107,
   "id": "dd696af3-30ef-4f5e-b847-6f3f81a2aa13",
   "metadata": {},
   "outputs": [
    {
     "name": "stdout",
     "output_type": "stream",
     "text": [
      "skipping: zero division\n"
     ]
    }
   ],
   "source": [
    "# <Your answer goes here>\n",
    "\n",
    "try:\n",
    "    result = 10/ 0\n",
    "except:\n",
    "    print(\"skipping: zero division\")\n",
    "    result = 0 "
   ]
  },
  {
   "cell_type": "code",
   "execution_count": 110,
   "id": "bf8c90e8-dd05-497e-b80a-c77ee82e895d",
   "metadata": {},
   "outputs": [
    {
     "name": "stdout",
     "output_type": "stream",
     "text": [
      "rate 0.9\n",
      "skipping: zero population\n",
      "rate 0.08\n",
      "skipping: zero population\n"
     ]
    }
   ],
   "source": [
    "populations = [100,0,250,0]\n",
    "deaths = [90,100,20,30]\n",
    "\n",
    "for pop, death in zip(populations, deaths):\n",
    "    try:\n",
    "        rate = (death/pop)\n",
    "        print(f\"rate {rate}\")\n",
    "    except:\n",
    "        print(\"skipping: zero population\")"
   ]
  },
  {
   "cell_type": "markdown",
   "id": "7c36031a-7c76-4525-821f-4a14048194ff",
   "metadata": {},
   "source": [
    "### 1.10. How can we define a function?"
   ]
  },
  {
   "cell_type": "code",
   "execution_count": 116,
   "id": "3fa130e6-1216-44a4-9cb6-7b100ee1417e",
   "metadata": {},
   "outputs": [],
   "source": [
    "# <Your answer goes here>\n",
    "def greet_person(name,age):\n",
    "    print(\"Hi, I'm\", name)\n",
    "    print(f\"I'm {age} years-old\")"
   ]
  },
  {
   "cell_type": "code",
   "execution_count": 119,
   "id": "1310ba63",
   "metadata": {},
   "outputs": [
    {
     "name": "stdout",
     "output_type": "stream",
     "text": [
      "Hi, I'm Jiani\n",
      "I'm 33 years-old\n"
     ]
    }
   ],
   "source": [
    "greet_person(\"Jiani\",33)"
   ]
  },
  {
   "cell_type": "markdown",
   "id": "fae23368-2d20-4603-9371-695d5396c969",
   "metadata": {},
   "source": [
    "#### 1.10.1 How can we return something from it?"
   ]
  },
  {
   "cell_type": "code",
   "execution_count": 125,
   "id": "ab554c56-a654-4350-8064-180963857250",
   "metadata": {},
   "outputs": [],
   "source": [
    "# <Your answer goes here>\n",
    "def calculate_rate(deaths, population,per=1000):\n",
    "    return (deaths/population)*per"
   ]
  },
  {
   "cell_type": "code",
   "execution_count": 126,
   "id": "9957484f",
   "metadata": {},
   "outputs": [
    {
     "name": "stdout",
     "output_type": "stream",
     "text": [
      "8390.0\n"
     ]
    }
   ],
   "source": [
    "result = calculate_rate(839,1000,10000)\n",
    "print(result) "
   ]
  },
  {
   "cell_type": "code",
   "execution_count": 127,
   "id": "3abbd5af-38b8-4895-a409-9d255c57613f",
   "metadata": {},
   "outputs": [
    {
     "data": {
      "text/plain": [
       "419.5"
      ]
     },
     "execution_count": 127,
     "metadata": {},
     "output_type": "execute_result"
    }
   ],
   "source": [
    "calculate_rate(839,1000,500)"
   ]
  },
  {
   "cell_type": "code",
   "execution_count": 128,
   "id": "459adb87-97d3-4349-9ef3-ab41427e1b38",
   "metadata": {},
   "outputs": [
    {
     "data": {
      "text/plain": [
       "839.0"
      ]
     },
     "execution_count": 128,
     "metadata": {},
     "output_type": "execute_result"
    }
   ],
   "source": [
    "calculate_rate(839,1000)"
   ]
  },
  {
   "cell_type": "markdown",
   "id": "5d03efec-ab84-46cf-a222-49e3f019d89c",
   "metadata": {},
   "source": [
    "#### 1.10.2 What's the difference between a local and a global variable?"
   ]
  },
  {
   "cell_type": "code",
   "execution_count": 131,
   "id": "8f5438d2-a088-427e-989f-71b76413e190",
   "metadata": {},
   "outputs": [],
   "source": [
    "# <Your answer goes here>\n",
    "population = 100 \n",
    "\n",
    "def check_var():\n",
    "    population = 200\n",
    "    print(f\"population is {population}\")"
   ]
  },
  {
   "cell_type": "code",
   "execution_count": 138,
   "id": "542f6109-5d07-4795-9a02-ea57b0ac96f9",
   "metadata": {},
   "outputs": [],
   "source": [
    "def caculate_rate():\n",
    "    death_count= 830\n",
    "    return death_count/population "
   ]
  },
  {
   "cell_type": "code",
   "execution_count": 135,
   "id": "df30d125-6007-43dc-86d9-552768685555",
   "metadata": {},
   "outputs": [
    {
     "data": {
      "text/plain": [
       "8.3"
      ]
     },
     "execution_count": 135,
     "metadata": {},
     "output_type": "execute_result"
    }
   ],
   "source": [
    "caculate_rate()"
   ]
  },
  {
   "cell_type": "code",
   "execution_count": 139,
   "id": "23b66d5f-639a-423c-bc41-cda43ed56526",
   "metadata": {},
   "outputs": [
    {
     "ename": "NameError",
     "evalue": "name 'death_count' is not defined",
     "output_type": "error",
     "traceback": [
      "\u001b[31m---------------------------------------------------------------------------\u001b[39m",
      "\u001b[31mNameError\u001b[39m                                 Traceback (most recent call last)",
      "\u001b[36mCell\u001b[39m\u001b[36m \u001b[39m\u001b[32mIn[139]\u001b[39m\u001b[32m, line 1\u001b[39m\n\u001b[32m----> \u001b[39m\u001b[32m1\u001b[39m \u001b[43mdeath_count\u001b[49m \n",
      "\u001b[31mNameError\u001b[39m: name 'death_count' is not defined"
     ]
    }
   ],
   "source": [
    "death_count "
   ]
  },
  {
   "cell_type": "code",
   "execution_count": 133,
   "id": "63b5958e-86ae-42aa-bd75-c059fdc55b17",
   "metadata": {},
   "outputs": [
    {
     "name": "stdout",
     "output_type": "stream",
     "text": [
      "population is 200\n"
     ]
    }
   ],
   "source": [
    "check_var()"
   ]
  },
  {
   "cell_type": "code",
   "execution_count": 132,
   "id": "1532ae11-d5bb-4d7e-8413-d72eb04dec89",
   "metadata": {},
   "outputs": [
    {
     "data": {
      "text/plain": [
       "100"
      ]
     },
     "execution_count": 132,
     "metadata": {},
     "output_type": "execute_result"
    }
   ],
   "source": [
    "population"
   ]
  },
  {
   "cell_type": "markdown",
   "id": "308808ef-7a4a-4418-9805-0bc7f244fb4f",
   "metadata": {},
   "source": [
    "#### 1.11.1 How do we read files in Python"
   ]
  },
  {
   "cell_type": "code",
   "execution_count": 140,
   "id": "68c42677-e5e5-481c-a2e9-17d5b6e8ecb1",
   "metadata": {},
   "outputs": [
    {
     "data": {
      "text/plain": [
       "PosixPath('/Users/valler/Python/PyCCM/course/labs/files')"
      ]
     },
     "execution_count": 140,
     "metadata": {},
     "output_type": "execute_result"
    }
   ],
   "source": [
    "lab"
   ]
  },
  {
   "cell_type": "code",
   "execution_count": 141,
   "id": "f4662cda-0536-405b-be72-b06598a8111f",
   "metadata": {},
   "outputs": [
    {
     "name": "stdout",
     "output_type": "stream",
     "text": [
      "This is an example text file\n",
      "It contains multiple rows\n",
      "I hope you are enjoying the python course so far!\n",
      "Bono oculto: si ves esta frase, ¡tomemos un descanso de 5 minutos!\n"
     ]
    }
   ],
   "source": [
    "# <Your answer goes here>\n",
    "with open(lab/\"example_text.txt\",\"r\") as file:\n",
    "    for line in file:\n",
    "        print(line.strip())"
   ]
  },
  {
   "cell_type": "markdown",
   "id": "1a52cec6-d2f0-4af6-90cf-566138589ee7",
   "metadata": {},
   "source": [
    "#### 1.11.2 How do we write files in Python"
   ]
  },
  {
   "cell_type": "code",
   "execution_count": 142,
   "id": "4945ff6d-1d7a-4ea9-b4eb-08ab2b2be3b2",
   "metadata": {},
   "outputs": [],
   "source": [
    "# <Your answer goes here>\n",
    "with open(lab/'example_2.txt',\"w\") as file:\n",
    "    file.write(\"Hola\")"
   ]
  },
  {
   "cell_type": "markdown",
   "id": "fa4fb380-6760-4016-bd58-bcde18a56d77",
   "metadata": {},
   "source": [
    "### 1.12. How do we import libraries, like numpy?"
   ]
  },
  {
   "cell_type": "code",
   "execution_count": 143,
   "id": "76ad2ffb-b3ce-4f67-b7b8-25c80c44e7f5",
   "metadata": {},
   "outputs": [],
   "source": [
    "# <Your answer goes here>\n",
    "import numpy as np "
   ]
  },
  {
   "cell_type": "code",
   "execution_count": 144,
   "id": "64da96cc-0332-4aa6-84d0-237188cd1e58",
   "metadata": {},
   "outputs": [
    {
     "ename": "NameError",
     "evalue": "name 'mean' is not defined",
     "output_type": "error",
     "traceback": [
      "\u001b[31m---------------------------------------------------------------------------\u001b[39m",
      "\u001b[31mNameError\u001b[39m                                 Traceback (most recent call last)",
      "\u001b[36mCell\u001b[39m\u001b[36m \u001b[39m\u001b[32mIn[144]\u001b[39m\u001b[32m, line 1\u001b[39m\n\u001b[32m----> \u001b[39m\u001b[32m1\u001b[39m \u001b[43mmean\u001b[49m([\u001b[32m1\u001b[39m,\u001b[32m2\u001b[39m,\u001b[32m3\u001b[39m])\n",
      "\u001b[31mNameError\u001b[39m: name 'mean' is not defined"
     ]
    }
   ],
   "source": [
    "mean([1,2,3])"
   ]
  },
  {
   "cell_type": "code",
   "execution_count": 146,
   "id": "ee2b7943-db22-4e3e-be86-de10b681668b",
   "metadata": {},
   "outputs": [
    {
     "data": {
      "text/plain": [
       "np.float64(2.0)"
      ]
     },
     "execution_count": 146,
     "metadata": {},
     "output_type": "execute_result"
    }
   ],
   "source": [
    "np.mean([1,2,3])"
   ]
  },
  {
   "cell_type": "markdown",
   "id": "bf8ca50e-91e0-421e-ac92-de655260ca11",
   "metadata": {},
   "source": [
    "### 1.12.1 What's a numpy array? why's it good?"
   ]
  },
  {
   "cell_type": "code",
   "execution_count": 151,
   "id": "9eb610e3-f70e-407a-afc2-11759e80bc9c",
   "metadata": {},
   "outputs": [
    {
     "name": "stdout",
     "output_type": "stream",
     "text": [
      "<class 'numpy.ndarray'>\n"
     ]
    }
   ],
   "source": [
    "# <Your answer goes here>\n",
    "populations = np.array([100,200,300])\n",
    "print(type(populations))"
   ]
  },
  {
   "cell_type": "code",
   "execution_count": 152,
   "id": "8ca332fd-894d-4981-b709-902f89ac265a",
   "metadata": {},
   "outputs": [
    {
     "name": "stdout",
     "output_type": "stream",
     "text": [
      "200\n"
     ]
    }
   ],
   "source": [
    "doubled_population = population*2\n",
    "print(doubled_population)"
   ]
  },
  {
   "cell_type": "code",
   "execution_count": 154,
   "id": "472e4eba-8d16-48fc-9494-c07e7b04d420",
   "metadata": {},
   "outputs": [
    {
     "data": {
      "text/plain": [
       "[100, 200, 300, 100, 200, 300]"
      ]
     },
     "execution_count": 154,
     "metadata": {},
     "output_type": "execute_result"
    }
   ],
   "source": [
    "[100,200,300]*2"
   ]
  },
  {
   "cell_type": "code",
   "execution_count": 155,
   "id": "122b25c2-e55d-4fe7-a64a-3b32886650d2",
   "metadata": {},
   "outputs": [
    {
     "data": {
      "text/plain": [
       "np.float64(200.0)"
      ]
     },
     "execution_count": 155,
     "metadata": {},
     "output_type": "execute_result"
    }
   ],
   "source": [
    "populations.mean()"
   ]
  },
  {
   "cell_type": "code",
   "execution_count": 156,
   "id": "d16d93f9-4471-4ee9-b6e6-c1c7a598b579",
   "metadata": {},
   "outputs": [
    {
     "data": {
      "text/plain": [
       "np.int64(600)"
      ]
     },
     "execution_count": 156,
     "metadata": {},
     "output_type": "execute_result"
    }
   ],
   "source": [
    "populations.sum()"
   ]
  },
  {
   "cell_type": "markdown",
   "id": "8f5d4245-0d4f-403d-901c-02f3fa6cb21e",
   "metadata": {},
   "source": [
    "### 1.12.2 How can we do some simple arithmetic operation with numpy?"
   ]
  },
  {
   "cell_type": "code",
   "execution_count": 157,
   "id": "8bf557b3-dffe-4f0d-9be5-f6acd0f4b202",
   "metadata": {},
   "outputs": [],
   "source": [
    "# <Your answer goes here>\n",
    "a = np.array([1,2,3,4])\n",
    "b = np.array([10,20,30,40])\n"
   ]
  },
  {
   "cell_type": "code",
   "execution_count": 158,
   "id": "e3861d24-eaa2-4844-b62d-8a5efd907327",
   "metadata": {},
   "outputs": [
    {
     "name": "stdout",
     "output_type": "stream",
     "text": [
      "[11 22 33 44]\n"
     ]
    }
   ],
   "source": [
    "print(a+b)"
   ]
  },
  {
   "cell_type": "code",
   "execution_count": 164,
   "id": "d2384588-b909-43bc-b290-6cc379676528",
   "metadata": {},
   "outputs": [
    {
     "name": "stdout",
     "output_type": "stream",
     "text": [
      "[11 22 33 44]\n",
      "[ 10  40  90 160]\n"
     ]
    }
   ],
   "source": [
    "print(a+b)\n",
    "print(a*b)"
   ]
  },
  {
   "cell_type": "code",
   "execution_count": 161,
   "id": "0e593d79-dfd7-487f-9bfc-7c1e2d9ebb9c",
   "metadata": {},
   "outputs": [
    {
     "name": "stdout",
     "output_type": "stream",
     "text": [
      "[ 1  4  9 16]\n"
     ]
    }
   ],
   "source": [
    "print(a**2)"
   ]
  },
  {
   "cell_type": "markdown",
   "id": "34fe4cb9-0bcb-456d-ae5b-6a10ef21329e",
   "metadata": {},
   "source": [
    "### 1.13. What's a dataframe?"
   ]
  },
  {
   "cell_type": "code",
   "execution_count": 35,
   "id": "023bf725-2c94-44b9-b2bd-275130149cea",
   "metadata": {},
   "outputs": [],
   "source": [
    "# <Your answer goes here>"
   ]
  },
  {
   "cell_type": "markdown",
   "id": "66a685e1-0df6-4e54-a770-0604411e3517",
   "metadata": {},
   "source": [
    "#### 1.13.1 How can we create an arbitrary dataframe?"
   ]
  },
  {
   "cell_type": "code",
   "execution_count": 36,
   "id": "be57ae58-e528-4d93-9408-ec0344ba2380",
   "metadata": {},
   "outputs": [],
   "source": [
    "# <Your answer goes here>"
   ]
  },
  {
   "cell_type": "markdown",
   "id": "6419b7ff-1059-4bbe-a3f2-cd296ba7fb63",
   "metadata": {},
   "source": [
    "#### 1.13.2 How can we populate a dataframe from a numpy array?"
   ]
  },
  {
   "cell_type": "code",
   "execution_count": 37,
   "id": "50c524b9-c5d4-46cf-bc93-009f6e217deb",
   "metadata": {},
   "outputs": [],
   "source": [
    "# <Your answer goes here>"
   ]
  },
  {
   "cell_type": "markdown",
   "id": "383a0b7a-9688-4eb1-9aae-a2fa82ed8c08",
   "metadata": {},
   "source": [
    "#### 1.13.3 How can we filter dataframes?"
   ]
  },
  {
   "cell_type": "code",
   "execution_count": null,
   "id": "0e5c9ef6",
   "metadata": {},
   "outputs": [],
   "source": [
    "import pandas as pd\n",
    "data = {\n",
    "    'country': ['USA', 'Canada', 'Mexico', 'Brazil'],\n",
    "    'population': [331000000, 38000000, 128000000, 212000000],\n",
    "    'birth_rate': [12.5, 10.9, 17.6, 14.6]\n",
    "}\n",
    "data = pd.DataFrame(data)"
   ]
  },
  {
   "cell_type": "code",
   "execution_count": 38,
   "id": "721f3ecd-f1be-4d47-a292-8455aa0877b0",
   "metadata": {},
   "outputs": [],
   "source": [
    "# <Your answer goes here>"
   ]
  },
  {
   "cell_type": "markdown",
   "id": "05121f2b-293f-4460-8bf5-6d7e9ea34155",
   "metadata": {},
   "source": [
    "#### 1.13.4 How can we sort them?"
   ]
  },
  {
   "cell_type": "code",
   "execution_count": null,
   "id": "26d8defb",
   "metadata": {},
   "outputs": [],
   "source": [
    "data = {\n",
    "    'country': ['Brazil', 'USA', 'Mexico', 'Canada'],\n",
    "    'population': [212000000, 331000000, 128000000, 38000000]\n",
    "}\n",
    "data = pd.DataFrame(data)"
   ]
  },
  {
   "cell_type": "code",
   "execution_count": 39,
   "id": "ff95a79c-0486-4009-a57f-a62a599dc95b",
   "metadata": {},
   "outputs": [],
   "source": [
    "# <Your answer goes here>"
   ]
  },
  {
   "cell_type": "markdown",
   "id": "5432ca5d-b253-4e02-b3cc-4fc7aa7df74c",
   "metadata": {},
   "source": [
    "#### 1.13.5 How can we read files from disk with pandas?"
   ]
  },
  {
   "cell_type": "code",
   "execution_count": 40,
   "id": "de51a7e2-8188-47c5-adac-13503cf86605",
   "metadata": {},
   "outputs": [],
   "source": [
    "# <Your answer goes here>"
   ]
  },
  {
   "cell_type": "markdown",
   "id": "ae5a647d-70bb-46b7-848a-6074843aa31f",
   "metadata": {},
   "source": [
    "#### 1.13.6 How can we write files to disk with pandas?"
   ]
  },
  {
   "cell_type": "code",
   "execution_count": 41,
   "id": "b0d61d57-4239-4fc5-abfa-24dd453dfe87",
   "metadata": {},
   "outputs": [],
   "source": [
    "# <Your answer goes here>"
   ]
  },
  {
   "cell_type": "markdown",
   "id": "5a3a4f95-a768-49c7-967b-2de1385b9f8a",
   "metadata": {},
   "source": [
    "### 1.14. How can we import matplotlib?"
   ]
  },
  {
   "cell_type": "code",
   "execution_count": 42,
   "id": "9ba1df66-24ee-4b96-80b6-11c07e7755f0",
   "metadata": {},
   "outputs": [],
   "source": [
    "# <Your answer goes here>"
   ]
  },
  {
   "cell_type": "markdown",
   "id": "f683278f-1eba-490b-8acd-a612ed989907",
   "metadata": {},
   "source": [
    "#### 1.14.1 How can we plot a numpy array with matplotlib?"
   ]
  },
  {
   "cell_type": "code",
   "execution_count": null,
   "id": "7b7f2a24",
   "metadata": {},
   "outputs": [],
   "source": [
    "years = np.array([2015, 2016, 2017, 2018, 2019, 2020])\n",
    "population = np.array([1000000, 1020000, 1041000, 1062000, 1084000, 1106000])"
   ]
  },
  {
   "cell_type": "code",
   "execution_count": 43,
   "id": "f6a43dba-d93e-4838-8963-994225646796",
   "metadata": {},
   "outputs": [],
   "source": [
    "# <Your answer goes here>"
   ]
  },
  {
   "cell_type": "markdown",
   "id": "e0667764-653f-44df-a24b-5a041bad697b",
   "metadata": {},
   "source": [
    "#### 1.14.2 How can we plot a pandas dataframe?"
   ]
  },
  {
   "cell_type": "code",
   "execution_count": null,
   "id": "38faf5df",
   "metadata": {},
   "outputs": [],
   "source": [
    "data = {\n",
    "    'year': [2015, 2016, 2017, 2018, 2019, 2020],\n",
    "    'births': [130000, 132000, 128000, 126000, 124000, 122000],\n",
    "    'deaths': [82000, 84000, 86000, 88000, 90000, 92000]\n",
    "}\n",
    "df = pd.DataFrame(data)"
   ]
  },
  {
   "cell_type": "code",
   "execution_count": 44,
   "id": "59845d37-818c-4611-a3e2-f910ff31e35d",
   "metadata": {},
   "outputs": [],
   "source": [
    "# <Your answer goes here>"
   ]
  },
  {
   "cell_type": "markdown",
   "id": "05a2b0c9-e2c2-4ea8-97a8-5d9d71812e0e",
   "metadata": {},
   "source": [
    "#### 1.15. How can we import functions from local modules?"
   ]
  },
  {
   "cell_type": "code",
   "execution_count": 45,
   "id": "363e9c55-e40f-46c8-af52-31e218bf6e11",
   "metadata": {},
   "outputs": [],
   "source": [
    "# <Your answer goes here>"
   ]
  },
  {
   "cell_type": "markdown",
   "id": "35dada32-9898-4532-b634-63d62934d5e6",
   "metadata": {},
   "source": [
    "---\n",
    "## 2. Section 2: Class questions -- either to be done in class, or as optional homework\n",
    "---"
   ]
  },
  {
   "cell_type": "markdown",
   "id": "517d4383-d8ed-440e-ba43-ff1ee2850362",
   "metadata": {},
   "source": [
    "### Q1. Replicate the exponential growth module seen in the lectures.\n",
    "\n",
    "i. Create three numpy arrays with a starting value.\n",
    "\n",
    "ii. Sequentially multiple them by the exponent.\n",
    "\n",
    "iii. Plot the three different values."
   ]
  },
  {
   "cell_type": "code",
   "execution_count": 46,
   "id": "729a8f71-f4ee-42f8-be02-b91bc3f9bb80",
   "metadata": {},
   "outputs": [],
   "source": [
    "# <Your answer goes here>"
   ]
  },
  {
   "cell_type": "markdown",
   "id": "70e7e92b-8045-4959-aacb-d4de85ee782f",
   "metadata": {},
   "source": [
    "### Question 2.\n",
    "\n",
    "i. Load in the conteos.rds file hosted in this repository (`./data`) as a pandas dataframe. Ideally, use the data_loaders module.\n",
    "\n",
    "ii. Filter the dataframe for total national data, EEVV, and the year 2018.\n",
    "\n",
    "iii. Drop values where age is NaN.\n",
    "\n",
    "iv. Add the population count for males to females.\n",
    "\n",
    "v. Add the death counts for males to females.\n",
    "\n",
    "vi. Divide death counts by the population values.\n",
    "\n",
    "vii. PLot this -- death rates -- ('m_x') value. \n",
    "\n",
    "viiii. Repeat step vii., but instead with logged death rates."
   ]
  }
 ],
 "metadata": {
  "kernelspec": {
   "display_name": "Python 3 (ipykernel)",
   "language": "python",
   "name": "python3"
  },
  "language_info": {
   "codemirror_mode": {
    "name": "ipython",
    "version": 3
   },
   "file_extension": ".py",
   "mimetype": "text/x-python",
   "name": "python",
   "nbconvert_exporter": "python",
   "pygments_lexer": "ipython3",
   "version": "3.11.13"
  }
 },
 "nbformat": 4,
 "nbformat_minor": 5
}
