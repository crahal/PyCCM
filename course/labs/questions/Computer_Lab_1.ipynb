{
 "cells": [
  {
   "cell_type": "markdown",
   "id": "d54d3647-0c01-4e35-be68-0abf030a5ce4",
   "metadata": {},
   "source": [
    "# Demographic Research Methods and the PyCCM Library\n",
    "## Computer Lab 1: An Introduction to Python for PyCCM\n",
    "## Instructor: Jiani Yan\n",
    "## Date: October 27th, 2025\n",
    "---\n",
    "\n",
    "In this class, we are going to learn about the basic building blocks of Python. We will try to finish both sections in the class, but it might be that Section 2 should be done as a 'class homework'. Section 1 will be live coded. Solutions for Section 2 will either be presented at the start of the second day, or at the end of the class, time permitting."
   ]
  },
  {
   "cell_type": "markdown",
   "id": "fa7d7d20-5e7a-41cb-8afc-fd1355ea207a",
   "metadata": {},
   "source": [
    "## 1. Section 1: To be taught by JY\n",
    "---"
   ]
  },
  {
   "cell_type": "markdown",
   "id": "1c433ee4-94fa-496e-98e6-3e5eda87f8a7",
   "metadata": {},
   "source": [
    "#### 1.1 Whats a float? Whats an int?"
   ]
  },
  {
   "cell_type": "code",
   "execution_count": 1,
   "id": "94cd497c-4be2-46f3-8223-f61df0807597",
   "metadata": {},
   "outputs": [],
   "source": [
    "# <Your answer goes here>"
   ]
  },
  {
   "cell_type": "markdown",
   "id": "7e410510-c61f-485c-a78e-9037dcfba71e",
   "metadata": {},
   "source": [
    "#### 1.1.1 What common arithmetic operators can we use on them?"
   ]
  },
  {
   "cell_type": "code",
   "execution_count": 2,
   "id": "13f647b8-6e5b-4f45-8be2-73671a8e66a9",
   "metadata": {},
   "outputs": [],
   "source": [
    "# <Your answer goes here>"
   ]
  },
  {
   "cell_type": "markdown",
   "id": "4ccb73df-fdd6-4ed4-b18c-994f1e950932",
   "metadata": {},
   "source": [
    "#### 1.1.2. Is 2/1 an int or a float? Why?"
   ]
  },
  {
   "cell_type": "code",
   "execution_count": 3,
   "id": "89554b7a-e52a-46c3-ab11-b1fda8d57c23",
   "metadata": {},
   "outputs": [],
   "source": [
    "# <Your answer goes here>"
   ]
  },
  {
   "cell_type": "markdown",
   "id": "a0f21411-abab-48b9-b3e6-415518e7150e",
   "metadata": {},
   "source": [
    "### 1.2 How do we print things?"
   ]
  },
  {
   "cell_type": "code",
   "execution_count": 4,
   "id": "0d671f93-b10a-404b-a57d-1713771f1b65",
   "metadata": {},
   "outputs": [],
   "source": [
    "# <Your answer goes here>"
   ]
  },
  {
   "cell_type": "markdown",
   "id": "a45e052c-231c-4321-b7dc-d63dd9e92358",
   "metadata": {},
   "source": [
    "### 1.3 How do we assign things?"
   ]
  },
  {
   "cell_type": "code",
   "execution_count": 5,
   "id": "ac89fb0e-db03-47d5-a3b5-eb775d764816",
   "metadata": {},
   "outputs": [],
   "source": [
    "# <Your answer goes here>"
   ]
  },
  {
   "cell_type": "markdown",
   "id": "33e9e586-5187-4451-9310-1493a802bd59",
   "metadata": {},
   "source": [
    "### 1.4 What's a character set?"
   ]
  },
  {
   "cell_type": "code",
   "execution_count": 6,
   "id": "46358d3a-48b5-44e7-b57c-c39ea8fff96c",
   "metadata": {},
   "outputs": [],
   "source": [
    "# <Your answer goes here>"
   ]
  },
  {
   "cell_type": "markdown",
   "id": "4d7e7070-a9f8-49f8-adfc-046ea38849d0",
   "metadata": {},
   "source": [
    "### 1.5 What's a string?"
   ]
  },
  {
   "cell_type": "code",
   "execution_count": 7,
   "id": "8b25894b-2172-405a-ab88-518aa396910e",
   "metadata": {},
   "outputs": [],
   "source": [
    "# <Your answer goes here>"
   ]
  },
  {
   "cell_type": "markdown",
   "id": "e006f841-b231-40b8-8805-c61b0e84b079",
   "metadata": {},
   "source": [
    "#### 1.5.1 How do we slice strings?"
   ]
  },
  {
   "cell_type": "code",
   "execution_count": 8,
   "id": "cb205be1-af49-4edb-92ef-7793a1802779",
   "metadata": {},
   "outputs": [],
   "source": [
    "# <Your answer goes here>"
   ]
  },
  {
   "cell_type": "markdown",
   "id": "4cfb92eb-7d95-441e-a08e-561f34d1e285",
   "metadata": {},
   "source": [
    "#### 1.5.2 What are some common string methods?"
   ]
  },
  {
   "cell_type": "code",
   "execution_count": 9,
   "id": "d43806a0-d1a0-4121-bc29-0933a937ed52",
   "metadata": {},
   "outputs": [],
   "source": [
    "# <Your answer goes here>"
   ]
  },
  {
   "cell_type": "markdown",
   "id": "2b7fdcb7-4d0c-49ea-bb10-88423ec653a3",
   "metadata": {},
   "source": [
    "#### 1.5.3 How do we join and split strings?"
   ]
  },
  {
   "cell_type": "code",
   "execution_count": 10,
   "id": "8055372e-1104-407b-8f47-0f4ec27667ee",
   "metadata": {},
   "outputs": [],
   "source": [
    "# <Your answer goes here>"
   ]
  },
  {
   "cell_type": "markdown",
   "id": "cc64ceed-1416-4f0d-bb8f-9a02d0b8375b",
   "metadata": {},
   "source": [
    "### 1.6. What's a collection?"
   ]
  },
  {
   "cell_type": "code",
   "execution_count": 11,
   "id": "c49fd928-47da-4f82-a03b-725a8746a688",
   "metadata": {},
   "outputs": [],
   "source": [
    "# <Your answer goes here>"
   ]
  },
  {
   "cell_type": "markdown",
   "id": "14975690-bd2b-410d-8eca-5a6e56fd770e",
   "metadata": {},
   "source": [
    "#### 1.6.1 What's a list?"
   ]
  },
  {
   "cell_type": "code",
   "execution_count": 12,
   "id": "1901f37c-a6de-4b86-b8dd-ad2123b3e184",
   "metadata": {},
   "outputs": [],
   "source": [
    "# <Your answer goes here>"
   ]
  },
  {
   "cell_type": "markdown",
   "id": "61c224b0-3901-4d40-a460-bfe23584a801",
   "metadata": {},
   "source": [
    "#### 1.6.2 What's a dictionary?"
   ]
  },
  {
   "cell_type": "code",
   "execution_count": 13,
   "id": "ebb53de8-7803-4f0a-be32-1d823bcde5e2",
   "metadata": {},
   "outputs": [],
   "source": [
    "# <Your answer goes here>"
   ]
  },
  {
   "cell_type": "markdown",
   "id": "8e543e24-30c8-4cf3-ac82-b78cf715553d",
   "metadata": {},
   "source": [
    "#### 1.6.3 What's a tuple?"
   ]
  },
  {
   "cell_type": "code",
   "execution_count": 14,
   "id": "9c2468bc-dbf2-447d-9329-c407bf283080",
   "metadata": {},
   "outputs": [],
   "source": [
    "# <Your answer goes here>"
   ]
  },
  {
   "cell_type": "markdown",
   "id": "4df4c15b-156b-4608-8429-dd323823d1f8",
   "metadata": {},
   "source": [
    "#### 1.6.4 How do these things differ?"
   ]
  },
  {
   "cell_type": "code",
   "execution_count": 15,
   "id": "e7ac41f5-22ad-4d28-be9c-507dee721685",
   "metadata": {},
   "outputs": [],
   "source": [
    "# <Your answer goes here>"
   ]
  },
  {
   "cell_type": "markdown",
   "id": "3bb8f859-ef44-48aa-87c4-15984fde864b",
   "metadata": {},
   "source": [
    "### 1.7. What's an iteration?"
   ]
  },
  {
   "cell_type": "code",
   "execution_count": 16,
   "id": "14e0f4a3-7326-41fe-b6dc-e109928223b6",
   "metadata": {},
   "outputs": [],
   "source": [
    "# <Your answer goes here>"
   ]
  },
  {
   "cell_type": "markdown",
   "id": "3f84c4b5-2663-4673-9abf-95d56efcff60",
   "metadata": {},
   "source": [
    "#### 1.7.1. How does indentation in Python work?"
   ]
  },
  {
   "cell_type": "code",
   "execution_count": 17,
   "id": "920a3560-1654-4780-b722-a296873e5856",
   "metadata": {},
   "outputs": [],
   "source": [
    "# <Your answer goes here>"
   ]
  },
  {
   "cell_type": "markdown",
   "id": "ba8f8afe-0a85-45b4-8a54-cfb2b943ed91",
   "metadata": {},
   "source": [
    "#### 1.7.2 How can we iterate over a collection?"
   ]
  },
  {
   "cell_type": "code",
   "execution_count": 18,
   "id": "b8ea253c-0361-4bc9-b272-9a3e2f45fd3c",
   "metadata": {},
   "outputs": [],
   "source": [
    "# <Your answer goes here>"
   ]
  },
  {
   "cell_type": "markdown",
   "id": "65a97787-3876-4b45-8b77-0a21e891b4c0",
   "metadata": {},
   "source": [
    "#### 1.7.3 How can we iterate over multiple collections simultaneously?"
   ]
  },
  {
   "cell_type": "code",
   "execution_count": 19,
   "id": "9a4b05af-1cb3-46dc-b34c-0965d3cd41f1",
   "metadata": {},
   "outputs": [],
   "source": [
    "# <Your answer goes here>"
   ]
  },
  {
   "cell_type": "markdown",
   "id": "bda688da-e41a-47a3-a779-f69cfd559c2e",
   "metadata": {},
   "source": [
    "### 1.8. What's Boolean Logic?"
   ]
  },
  {
   "cell_type": "code",
   "execution_count": 20,
   "id": "eb3f1a45-373c-4d30-a603-ee0348da4fc6",
   "metadata": {},
   "outputs": [],
   "source": [
    "# <Your answer goes here>"
   ]
  },
  {
   "cell_type": "markdown",
   "id": "a1d08d31-7fe7-49a4-8671-e27fe1d6a9b5",
   "metadata": {},
   "source": [
    "#### 1.8.1 How can we control flow in Python?"
   ]
  },
  {
   "cell_type": "code",
   "execution_count": 21,
   "id": "a9e4a2fe-ef41-411d-a80e-bde5f4a235e6",
   "metadata": {},
   "outputs": [],
   "source": [
    "# <Your answer goes here>"
   ]
  },
  {
   "cell_type": "markdown",
   "id": "88d926c5-707a-482d-9bec-f76307a12b7c",
   "metadata": {},
   "source": [
    "#### 1.8.2 How can we combine iteration and control in Python?"
   ]
  },
  {
   "cell_type": "code",
   "execution_count": 22,
   "id": "6bc6f3f4-a794-4d74-9f57-7aa959570bd6",
   "metadata": {},
   "outputs": [],
   "source": [
    "# <Your answer goes here>"
   ]
  },
  {
   "cell_type": "markdown",
   "id": "5d65d7a0-2b9b-4cfd-8b20-fa85ad1aad42",
   "metadata": {},
   "source": [
    "#### 1.8.3 How do while loops work?"
   ]
  },
  {
   "cell_type": "code",
   "execution_count": 23,
   "id": "7f7e1c9f-25b6-46dc-b6f0-f9037f551ca7",
   "metadata": {},
   "outputs": [],
   "source": [
    "# <Your answer goes here>"
   ]
  },
  {
   "cell_type": "markdown",
   "id": "9f3b5a40-1e1a-4bea-99ae-7b46a1a49b24",
   "metadata": {},
   "source": [
    "#### 1.8.4 How can we continue if a condition is met?"
   ]
  },
  {
   "cell_type": "code",
   "execution_count": 24,
   "id": "e83e8ccd-2e45-4c20-87d7-e3b01d4e3b5f",
   "metadata": {},
   "outputs": [],
   "source": [
    "# <Your answer goes here>"
   ]
  },
  {
   "cell_type": "markdown",
   "id": "583022f6-342c-4e0c-bb45-7541460d0c49",
   "metadata": {},
   "source": [
    "#### 1.8.5 How can we break out of a loop at a specific point in time?"
   ]
  },
  {
   "cell_type": "code",
   "execution_count": 25,
   "id": "a806d2fb-a222-41f6-b03e-e86ba7519e3d",
   "metadata": {},
   "outputs": [],
   "source": [
    "# <Your answer goes here>"
   ]
  },
  {
   "cell_type": "markdown",
   "id": "67f0fa8b-27db-4ef5-bdba-3a7bf7c61c34",
   "metadata": {},
   "source": [
    "### 1.9. How can we handle errors with 'try' and 'except'?"
   ]
  },
  {
   "cell_type": "code",
   "execution_count": 26,
   "id": "dd696af3-30ef-4f5e-b847-6f3f81a2aa13",
   "metadata": {},
   "outputs": [],
   "source": [
    "# <Your answer goes here>"
   ]
  },
  {
   "cell_type": "markdown",
   "id": "7c36031a-7c76-4525-821f-4a14048194ff",
   "metadata": {},
   "source": [
    "### 1.10. How can we define a function?"
   ]
  },
  {
   "cell_type": "code",
   "execution_count": 27,
   "id": "3fa130e6-1216-44a4-9cb6-7b100ee1417e",
   "metadata": {},
   "outputs": [],
   "source": [
    "# <Your answer goes here>"
   ]
  },
  {
   "cell_type": "markdown",
   "id": "fae23368-2d20-4603-9371-695d5396c969",
   "metadata": {},
   "source": [
    "#### 1.10.1 How can we return something from it?"
   ]
  },
  {
   "cell_type": "code",
   "execution_count": 28,
   "id": "ab554c56-a654-4350-8064-180963857250",
   "metadata": {},
   "outputs": [],
   "source": [
    "# <Your answer goes here>"
   ]
  },
  {
   "cell_type": "markdown",
   "id": "5d03efec-ab84-46cf-a222-49e3f019d89c",
   "metadata": {},
   "source": [
    "#### 1.10.2 What's the difference between a local and a global variable?"
   ]
  },
  {
   "cell_type": "code",
   "execution_count": 29,
   "id": "8f5438d2-a088-427e-989f-71b76413e190",
   "metadata": {},
   "outputs": [],
   "source": [
    "# <Your answer goes here>"
   ]
  },
  {
   "cell_type": "markdown",
   "id": "308808ef-7a4a-4418-9805-0bc7f244fb4f",
   "metadata": {},
   "source": [
    "#### 1.11.1 How do we read files in Python"
   ]
  },
  {
   "cell_type": "code",
   "execution_count": 30,
   "id": "f4662cda-0536-405b-be72-b06598a8111f",
   "metadata": {},
   "outputs": [],
   "source": [
    "# <Your answer goes here>"
   ]
  },
  {
   "cell_type": "markdown",
   "id": "1a52cec6-d2f0-4af6-90cf-566138589ee7",
   "metadata": {},
   "source": [
    "#### 1.11.2 How do we write files in Python"
   ]
  },
  {
   "cell_type": "code",
   "execution_count": 31,
   "id": "4945ff6d-1d7a-4ea9-b4eb-08ab2b2be3b2",
   "metadata": {},
   "outputs": [],
   "source": [
    "# <Your answer goes here>"
   ]
  },
  {
   "cell_type": "markdown",
   "id": "fa4fb380-6760-4016-bd58-bcde18a56d77",
   "metadata": {},
   "source": [
    "### 1.12. How do we import libraries, like numpy?"
   ]
  },
  {
   "cell_type": "code",
   "execution_count": 32,
   "id": "76ad2ffb-b3ce-4f67-b7b8-25c80c44e7f5",
   "metadata": {},
   "outputs": [],
   "source": [
    "# <Your answer goes here>"
   ]
  },
  {
   "cell_type": "markdown",
   "id": "bf8ca50e-91e0-421e-ac92-de655260ca11",
   "metadata": {},
   "source": [
    "### 1.12.1 What's a numpy array? why's it good?"
   ]
  },
  {
   "cell_type": "code",
   "execution_count": 33,
   "id": "9eb610e3-f70e-407a-afc2-11759e80bc9c",
   "metadata": {},
   "outputs": [],
   "source": [
    "# <Your answer goes here>"
   ]
  },
  {
   "cell_type": "markdown",
   "id": "8f5d4245-0d4f-403d-901c-02f3fa6cb21e",
   "metadata": {},
   "source": [
    "### 1.12.2 How can we do some simple arithmetic operation with numpy?"
   ]
  },
  {
   "cell_type": "code",
   "execution_count": 34,
   "id": "8bf557b3-dffe-4f0d-9be5-f6acd0f4b202",
   "metadata": {},
   "outputs": [],
   "source": [
    "# <Your answer goes here>"
   ]
  },
  {
   "cell_type": "markdown",
   "id": "34fe4cb9-0bcb-456d-ae5b-6a10ef21329e",
   "metadata": {},
   "source": [
    "### 1.13. What's a dataframe?"
   ]
  },
  {
   "cell_type": "code",
   "execution_count": 35,
   "id": "023bf725-2c94-44b9-b2bd-275130149cea",
   "metadata": {},
   "outputs": [],
   "source": [
    "# <Your answer goes here>"
   ]
  },
  {
   "cell_type": "markdown",
   "id": "66a685e1-0df6-4e54-a770-0604411e3517",
   "metadata": {},
   "source": [
    "#### 1.13.1 How can we create an arbitrary dataframe?"
   ]
  },
  {
   "cell_type": "code",
   "execution_count": 36,
   "id": "be57ae58-e528-4d93-9408-ec0344ba2380",
   "metadata": {},
   "outputs": [],
   "source": [
    "# <Your answer goes here>"
   ]
  },
  {
   "cell_type": "markdown",
   "id": "6419b7ff-1059-4bbe-a3f2-cd296ba7fb63",
   "metadata": {},
   "source": [
    "#### 1.13.2 How can we populate a dataframe from a numpy array?"
   ]
  },
  {
   "cell_type": "code",
   "execution_count": 37,
   "id": "50c524b9-c5d4-46cf-bc93-009f6e217deb",
   "metadata": {},
   "outputs": [],
   "source": [
    "# <Your answer goes here>"
   ]
  },
  {
   "cell_type": "markdown",
   "id": "383a0b7a-9688-4eb1-9aae-a2fa82ed8c08",
   "metadata": {},
   "source": [
    "#### 1.13.3 How can we filter dataframes?"
   ]
  },
  {
   "cell_type": "code",
   "execution_count": 38,
   "id": "721f3ecd-f1be-4d47-a292-8455aa0877b0",
   "metadata": {},
   "outputs": [],
   "source": [
    "# <Your answer goes here>"
   ]
  },
  {
   "cell_type": "markdown",
   "id": "05121f2b-293f-4460-8bf5-6d7e9ea34155",
   "metadata": {},
   "source": [
    "#### 1.13.4 How can we sort them?"
   ]
  },
  {
   "cell_type": "code",
   "execution_count": 39,
   "id": "ff95a79c-0486-4009-a57f-a62a599dc95b",
   "metadata": {},
   "outputs": [],
   "source": [
    "# <Your answer goes here>"
   ]
  },
  {
   "cell_type": "markdown",
   "id": "5432ca5d-b253-4e02-b3cc-4fc7aa7df74c",
   "metadata": {},
   "source": [
    "#### 1.13.5 How can we read files from disk with pandas?"
   ]
  },
  {
   "cell_type": "code",
   "execution_count": 40,
   "id": "de51a7e2-8188-47c5-adac-13503cf86605",
   "metadata": {},
   "outputs": [],
   "source": [
    "# <Your answer goes here>"
   ]
  },
  {
   "cell_type": "markdown",
   "id": "ae5a647d-70bb-46b7-848a-6074843aa31f",
   "metadata": {},
   "source": [
    "#### 1.13.6 How can we write files to disk with pandas?"
   ]
  },
  {
   "cell_type": "code",
   "execution_count": 41,
   "id": "b0d61d57-4239-4fc5-abfa-24dd453dfe87",
   "metadata": {},
   "outputs": [],
   "source": [
    "# <Your answer goes here>"
   ]
  },
  {
   "cell_type": "markdown",
   "id": "5a3a4f95-a768-49c7-967b-2de1385b9f8a",
   "metadata": {},
   "source": [
    "### 1.14. How can we import matplotlib?"
   ]
  },
  {
   "cell_type": "code",
   "execution_count": 42,
   "id": "9ba1df66-24ee-4b96-80b6-11c07e7755f0",
   "metadata": {},
   "outputs": [],
   "source": [
    "# <Your answer goes here>"
   ]
  },
  {
   "cell_type": "markdown",
   "id": "f683278f-1eba-490b-8acd-a612ed989907",
   "metadata": {},
   "source": [
    "#### 1.14.1 How can we plot a numpy array with matplotlib?"
   ]
  },
  {
   "cell_type": "code",
   "execution_count": 43,
   "id": "f6a43dba-d93e-4838-8963-994225646796",
   "metadata": {},
   "outputs": [],
   "source": [
    "# <Your answer goes here>"
   ]
  },
  {
   "cell_type": "markdown",
   "id": "e0667764-653f-44df-a24b-5a041bad697b",
   "metadata": {},
   "source": [
    "#### 1.14.2 How can we plot a pandas dataframe?"
   ]
  },
  {
   "cell_type": "code",
   "execution_count": 44,
   "id": "59845d37-818c-4611-a3e2-f910ff31e35d",
   "metadata": {},
   "outputs": [],
   "source": [
    "# <Your answer goes here>"
   ]
  },
  {
   "cell_type": "markdown",
   "id": "05a2b0c9-e2c2-4ea8-97a8-5d9d71812e0e",
   "metadata": {},
   "source": [
    "#### 1.15. How can we import functions from local modules?"
   ]
  },
  {
   "cell_type": "code",
   "execution_count": 45,
   "id": "363e9c55-e40f-46c8-af52-31e218bf6e11",
   "metadata": {},
   "outputs": [],
   "source": [
    "# <Your answer goes here>"
   ]
  },
  {
   "cell_type": "markdown",
   "id": "35dada32-9898-4532-b634-63d62934d5e6",
   "metadata": {},
   "source": [
    "---\n",
    "## 2. Section 2: Class questions -- either to be done in class, or as optional homework\n",
    "---"
   ]
  },
  {
   "cell_type": "markdown",
   "id": "517d4383-d8ed-440e-ba43-ff1ee2850362",
   "metadata": {},
   "source": [
    "### Q1. Replicate the exponential growth module seen in the lectures.\n",
    "\n",
    "i. Create three numpy arrays with a starting value.\n",
    "\n",
    "ii. Sequentially multiple them by the exponent.\n",
    "\n",
    "iii. Plot the three different values."
   ]
  },
  {
   "cell_type": "code",
   "execution_count": 46,
   "id": "729a8f71-f4ee-42f8-be02-b91bc3f9bb80",
   "metadata": {},
   "outputs": [],
   "source": [
    "# <Your answer goes here>"
   ]
  },
  {
   "cell_type": "markdown",
   "id": "70e7e92b-8045-4959-aacb-d4de85ee782f",
   "metadata": {},
   "source": [
    "### Question 2.\n",
    "\n",
    "i. Load in the conteos.rds file hosted in this repository (`./data`) as a pandas dataframe. Ideally, use the data_loaders module.\n",
    "\n",
    "ii. Filter the dataframe for total national data, EEVV, and the year 2018.\n",
    "\n",
    "iii. Drop values where age is NaN.\n",
    "\n",
    "iv. Add the population count for males to females.\n",
    "\n",
    "v. Add the death counts for males to females.\n",
    "\n",
    "vi. Divide death counts by the population values.\n",
    "\n",
    "vii. PLot this -- death rates -- ('m_x') value. \n",
    "\n",
    "viiii. Repeat step vii., but instead with logged death rates."
   ]
  }
 ],
 "metadata": {
  "kernelspec": {
   "display_name": "Python 3 (ipykernel)",
   "language": "python",
   "name": "python3"
  },
  "language_info": {
   "codemirror_mode": {
    "name": "ipython",
    "version": 3
   },
   "file_extension": ".py",
   "mimetype": "text/x-python",
   "name": "python",
   "nbconvert_exporter": "python",
   "pygments_lexer": "ipython3",
   "version": "3.12.7"
  }
 },
 "nbformat": 4,
 "nbformat_minor": 5
}
