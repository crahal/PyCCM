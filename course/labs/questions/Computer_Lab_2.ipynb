{
 "cells": [
  {
   "cell_type": "markdown",
   "id": "b423c84d-5bd1-4664-a2f5-0be5b98bc2a9",
   "metadata": {},
   "source": [
    "# Demographic Research Methods and the PyCCM Library\n",
    "## Computer Lab 2: Building lifetables in Python\n",
    "## Instructor: Jiani Yan\n",
    "## Date: October 28th, 2025\n",
    "---\n",
    "\n",
    "In this class, we are going to learn about how to make lifetables in Python. We will try to finish both sections in the class, but it might be that Section 2/3/4/5/6/7 should be done as a 'class homework'. Full solutions for all sections will either be presented at the start of the second day, or at the end of the class, time permitting."
   ]
  },
  {
   "cell_type": "markdown",
   "id": "b31378a4-de57-4379-bc22-f75fc649030e",
   "metadata": {},
   "source": [
    "Every ~15 minutes we'll stretch our legs, drink some water, and then live code up some answers so everybody can catch up. Relax, you're doing great!"
   ]
  },
  {
   "cell_type": "markdown",
   "id": "cc0333e8-c653-46cd-a271-16bc18eb4a5b",
   "metadata": {},
   "source": [
    "## 1. Section 1: Vanilla lifetables\n",
    "\n",
    "---"
   ]
  },
  {
   "cell_type": "markdown",
   "id": "547977c0-776d-4f47-bf61-436542e460f4",
   "metadata": {},
   "source": [
    "### 1.1 Load in the conteos.rds file, using the data_loaders module or otherwise."
   ]
  },
  {
   "cell_type": "code",
   "execution_count": 1,
   "id": "93036b87-5c12-48c9-8f90-a9bd034fe2e6",
   "metadata": {},
   "outputs": [],
   "source": [
    "# <Your answer goes here>"
   ]
  },
  {
   "cell_type": "markdown",
   "id": "563d2d55-4c59-419e-9b2a-514ca6cdd75c",
   "metadata": {},
   "source": [
    "### 1.1 Filter for censos_2018 and the year 2018 for exposures and deaths"
   ]
  },
  {
   "cell_type": "code",
   "execution_count": 2,
   "id": "fd3b71e2-d327-482f-8fbd-29f76727f7dc",
   "metadata": {},
   "outputs": [],
   "source": [
    "# <Your answer goes here>"
   ]
  },
  {
   "cell_type": "markdown",
   "id": "83393630-53ea-4ac0-8a0e-c8222ca351a6",
   "metadata": {},
   "source": [
    "### 1.2 Create a new dataframe which has three columns: age, exposures, deaths"
   ]
  },
  {
   "cell_type": "code",
   "execution_count": 3,
   "id": "bce4f3db-7ef3-45f8-b2f4-8f3d53a2ba06",
   "metadata": {},
   "outputs": [],
   "source": [
    "# <Your answer goes here>"
   ]
  },
  {
   "cell_type": "markdown",
   "id": "b0063047-65d3-4460-8575-a4b4d2d7411c",
   "metadata": {},
   "source": [
    "### 1.3 Drop any deaths which are not attributable to ages."
   ]
  },
  {
   "cell_type": "code",
   "execution_count": 4,
   "id": "448e83d9-e7df-472e-baae-8588333f10fd",
   "metadata": {},
   "outputs": [],
   "source": [
    "# <Your answer goes here>"
   ]
  },
  {
   "cell_type": "markdown",
   "id": "f959c5ca-022b-476d-900e-b35ecf5e04fc",
   "metadata": {},
   "source": [
    "### 1.4 Create a basic m_x column"
   ]
  },
  {
   "cell_type": "code",
   "execution_count": 5,
   "id": "4da4d1b4-f7f3-4ef8-bd71-86b4db8a7a1e",
   "metadata": {},
   "outputs": [],
   "source": [
    "# <Your answer goes here>"
   ]
  },
  {
   "cell_type": "markdown",
   "id": "d85a35db-7447-4fcd-a9f8-c959b1af7aa4",
   "metadata": {},
   "source": [
    "### 1.5 Convert this to q_x using the Greville equation (use a reasonable a_x)"
   ]
  },
  {
   "cell_type": "code",
   "execution_count": 6,
   "id": "d6dae398-ab03-4bb1-8897-fa864af7c0f2",
   "metadata": {},
   "outputs": [],
   "source": [
    "# <Your answer goes here>"
   ]
  },
  {
   "cell_type": "markdown",
   "id": "43a41ff0-9ef6-4cd4-a7c9-405c2ddb837f",
   "metadata": {},
   "source": [
    "### 1.6 Convert this to q_x using the Greville equation (use a reasonable a_x)"
   ]
  },
  {
   "cell_type": "code",
   "execution_count": 7,
   "id": "66a22c84-c970-4b8f-bfbc-00950aca17a6",
   "metadata": {},
   "outputs": [],
   "source": [
    "# <Your answer goes here>"
   ]
  },
  {
   "cell_type": "markdown",
   "id": "31b8acd7-dc3d-416b-93f1-8804686469be",
   "metadata": {},
   "source": [
    "### 1.6 Set a radix, and calculate a l_x column."
   ]
  },
  {
   "cell_type": "code",
   "execution_count": 8,
   "id": "8165025f-4c65-487b-b5d3-1a17514bc134",
   "metadata": {},
   "outputs": [],
   "source": [
    "# <Your answer goes here>"
   ]
  },
  {
   "cell_type": "markdown",
   "id": "bb4fe436-fc58-42fa-abae-5324f7be0235",
   "metadata": {},
   "source": [
    "### 1.7 Calculate a d_x from this."
   ]
  },
  {
   "cell_type": "code",
   "execution_count": 9,
   "id": "4fd39b60-5c50-4db1-b39d-da68b20a2ca5",
   "metadata": {},
   "outputs": [],
   "source": [
    "# <Your answer goes here>"
   ]
  },
  {
   "cell_type": "markdown",
   "id": "03099f6c-805d-4083-abff-6088d0689abf",
   "metadata": {},
   "source": [
    "### 1.8 Build a L_x column"
   ]
  },
  {
   "cell_type": "code",
   "execution_count": 10,
   "id": "7edf6124-4531-48db-9b39-971319250ae2",
   "metadata": {},
   "outputs": [],
   "source": [
    "# <Your answer goes here>"
   ]
  },
  {
   "cell_type": "markdown",
   "id": "794285a3-0ffe-41d8-b1f4-fde4ed482b3a",
   "metadata": {},
   "source": [
    "### 1.9 From the L_x column, calculate the T_x"
   ]
  },
  {
   "cell_type": "code",
   "execution_count": 11,
   "id": "66081c69-eb0c-4faf-a564-c365c56afd45",
   "metadata": {},
   "outputs": [],
   "source": [
    "# <Your answer goes here>"
   ]
  },
  {
   "cell_type": "markdown",
   "id": "a12240f1-ad8a-415f-bddc-f2b7bbb81227",
   "metadata": {},
   "source": [
    "### 1.10 Finally, build a life expectancy column."
   ]
  },
  {
   "cell_type": "code",
   "execution_count": 12,
   "id": "e9a1bbb8-7dd1-4816-857e-12ccaec5a0dc",
   "metadata": {},
   "outputs": [],
   "source": [
    "# <Your answer goes here>"
   ]
  },
  {
   "cell_type": "markdown",
   "id": "388626c3-3a09-4ed3-bd98-6b7ac93a1e32",
   "metadata": {},
   "source": [
    "### 2. Visualise these columns (and their logged values). What can you see?"
   ]
  },
  {
   "cell_type": "code",
   "execution_count": 13,
   "id": "2806c956-73a0-4803-8ab3-6378097b31db",
   "metadata": {},
   "outputs": [],
   "source": [
    "# <Your answer goes here>"
   ]
  },
  {
   "cell_type": "markdown",
   "id": "f6d776bc-3a72-45dc-b919-f84aa3d0e1a9",
   "metadata": {},
   "source": [
    "### 3. Can you re-run this by constructing a midpoint between the two death counts?"
   ]
  },
  {
   "cell_type": "code",
   "execution_count": 14,
   "id": "50d0b11b-0a7d-49c7-b587-f8780d532e23",
   "metadata": {},
   "outputs": [],
   "source": [
    "# <Your answer goes here>"
   ]
  },
  {
   "cell_type": "markdown",
   "id": "be76ff73-6689-44fd-8ed0-eb41c91c1eda",
   "metadata": {},
   "source": [
    "### 4. How does PyCCM use moving averages to smooth lifetable values? How can you incorporate this into your code?"
   ]
  },
  {
   "cell_type": "code",
   "execution_count": 15,
   "id": "552f5dae-8ee9-4fc4-96d7-4f3ee2a8ee2b",
   "metadata": {},
   "outputs": [],
   "source": [
    "# <Your answer goes here>"
   ]
  },
  {
   "cell_type": "markdown",
   "id": "917e6afa-c512-4c68-b582-dd766a7ffb39",
   "metadata": {},
   "source": [
    "### 5. How does PyCCM use mortality improvements? How can you incorporate this into your code?"
   ]
  },
  {
   "cell_type": "code",
   "execution_count": 16,
   "id": "90433006-4620-4d7c-bf64-3a07af80a423",
   "metadata": {},
   "outputs": [],
   "source": [
    "# <Your answer goes here>"
   ]
  },
  {
   "cell_type": "markdown",
   "id": "61610b5b-2453-4c39-a5be-8c832504254d",
   "metadata": {},
   "source": [
    "### 6. Can you modularise your work into a function? This will be useful for the final lab!"
   ]
  },
  {
   "cell_type": "code",
   "execution_count": 17,
   "id": "247c66de-6880-456f-9104-36893e06f42d",
   "metadata": {},
   "outputs": [],
   "source": [
    "# <Your answer goes here>"
   ]
  },
  {
   "cell_type": "markdown",
   "id": "e5535cff-75aa-4eca-9539-8498fef5b74f",
   "metadata": {},
   "source": [
    "### 7. Loop over multiple DPTOs. Store your m_x and e_0 values. Plot them in a 1x2 figure."
   ]
  },
  {
   "cell_type": "code",
   "execution_count": 18,
   "id": "26f00ece-11f7-4da4-80c8-95e1fc4ac463",
   "metadata": {},
   "outputs": [],
   "source": [
    "# <Your answer goes here>"
   ]
  }
 ],
 "metadata": {
  "kernelspec": {
   "display_name": "Python 3 (ipykernel)",
   "language": "python",
   "name": "python3"
  },
  "language_info": {
   "codemirror_mode": {
    "name": "ipython",
    "version": 3
   },
   "file_extension": ".py",
   "mimetype": "text/x-python",
   "name": "python",
   "nbconvert_exporter": "python",
   "pygments_lexer": "ipython3",
   "version": "3.12.7"
  }
 },
 "nbformat": 4,
 "nbformat_minor": 5
}
