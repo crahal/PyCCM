{
 "cells": [
  {
   "cell_type": "markdown",
   "id": "a529c031-54a4-4244-bba0-f9ad401e585f",
   "metadata": {},
   "source": [
    "# Demographic Research Methods and the PyCCM Library\n",
    "## Computer Lab 3: Fertility Analysis\n",
    "## Instructor: Jiani Yan\n",
    "## Date: October 29th, 2025\n",
    "---\n",
    "\n",
    "In this class, we are going to learn about how to do some fertility calculations in Python. As before, Section 1 is most important. We will try to finish both sections in the class, but it might be that later sections should be done as a 'class homework'. Solutions for Section 2 will either be presented at the start of the second day, or at the end of the class, time permitting."
   ]
  },
  {
   "cell_type": "markdown",
   "id": "0649569a-0570-4908-a4de-7ce2e72113c1",
   "metadata": {},
   "source": [
    "Every ~15 minutes we'll stretch our legs, drink some water, and then live code up some answers so everybody can catch up. Relax, you're doing great!"
   ]
  },
  {
   "cell_type": "markdown",
   "id": "f1de1560-584b-4a02-8375-932eaac72596",
   "metadata": {},
   "source": [
    "## 1. Section 1: Vanilla ASFRs\n",
    "\n",
    "---"
   ]
  },
  {
   "cell_type": "markdown",
   "id": "0c08e63d-54e3-49a5-acfb-28a74cb99257",
   "metadata": {},
   "source": [
    "### 1.1 Load in the conteos.rds file, using the data_loaders module or otherwise."
   ]
  },
  {
   "cell_type": "code",
   "execution_count": 1,
   "id": "55c71f53-4c16-4a6c-9ba3-6b575b178237",
   "metadata": {},
   "outputs": [],
   "source": [
    "# <Your answer goes here>"
   ]
  },
  {
   "cell_type": "markdown",
   "id": "1fede63e-a6e3-4bb9-918c-d505674944af",
   "metadata": {},
   "source": [
    "### 1.2 Filter for EEVV fertility and censos exposures for births and deaths respectively"
   ]
  },
  {
   "cell_type": "code",
   "execution_count": 2,
   "id": "35ee517b-b721-4262-9d25-f9f433af8d35",
   "metadata": {},
   "outputs": [],
   "source": [
    "# <Your answer goes here>"
   ]
  },
  {
   "cell_type": "markdown",
   "id": "3f1793af-ac16-428e-85cd-0ee242c1f941",
   "metadata": {},
   "source": [
    "### 1.3 Filter for your favourite DPTO"
   ]
  },
  {
   "cell_type": "code",
   "execution_count": 3,
   "id": "cef8f872-e1a6-42b4-8731-f527678bfa21",
   "metadata": {},
   "outputs": [],
   "source": [
    "# <Your answer goes here>"
   ]
  },
  {
   "cell_type": "markdown",
   "id": "6e944658-baa9-48b6-bb42-75227553b70a",
   "metadata": {},
   "source": [
    "### 1.4 (Optional) Account for Ommissions by increasing the exposures and births accordingly"
   ]
  },
  {
   "cell_type": "code",
   "execution_count": 4,
   "id": "21435962-05f0-452b-a5fe-603221c6db76",
   "metadata": {},
   "outputs": [],
   "source": [
    "# <Your answer goes here>"
   ]
  },
  {
   "cell_type": "markdown",
   "id": "77a10df8-fce0-4390-976b-c03fef968a20",
   "metadata": {},
   "source": [
    "### 1.5 Aggregate births from males and females"
   ]
  },
  {
   "cell_type": "code",
   "execution_count": 5,
   "id": "f0c8a67a-70ce-45fe-8ccd-9b041617645a",
   "metadata": {},
   "outputs": [],
   "source": [
    "# <Your answer goes here>"
   ]
  },
  {
   "cell_type": "markdown",
   "id": "78eeedf3-375d-4f66-8b66-cee261201b3a",
   "metadata": {},
   "source": [
    "### 2. Calculate ASFRs."
   ]
  },
  {
   "cell_type": "code",
   "execution_count": 6,
   "id": "f6055411-ee2c-4432-82d9-35981ab42c22",
   "metadata": {},
   "outputs": [],
   "source": [
    "# <Your answer goes here>"
   ]
  },
  {
   "cell_type": "markdown",
   "id": "34af5bd6-6d14-4dcb-83e4-68ea027af013",
   "metadata": {},
   "source": [
    "### 3. From these ASFRs, calculate the TFR."
   ]
  },
  {
   "cell_type": "code",
   "execution_count": 7,
   "id": "6af6f5c0-4b95-469c-b868-c3a7761aff23",
   "metadata": {},
   "outputs": [],
   "source": [
    "# <Your answer goes here>"
   ]
  },
  {
   "cell_type": "markdown",
   "id": "f7e0929e-50f8-4bba-9a1e-3f6c8d21ff61",
   "metadata": {},
   "source": [
    "### 4. Using functionality from PyCCM, adjust the TFR towards a target variable at _one step_"
   ]
  },
  {
   "cell_type": "code",
   "execution_count": 8,
   "id": "12847cd9-a6f5-4f1b-ae58-e8d44d248b47",
   "metadata": {},
   "outputs": [],
   "source": [
    "# <Your answer goes here>"
   ]
  },
  {
   "cell_type": "markdown",
   "id": "0f032e4e-8233-4099-ad47-aed5e10b29e1",
   "metadata": {},
   "source": [
    "### 5. With this adjusted TFR, re-calculate the ASFR."
   ]
  },
  {
   "cell_type": "code",
   "execution_count": 9,
   "id": "fd3f8880-af58-4418-addb-55e0adba15a3",
   "metadata": {},
   "outputs": [],
   "source": [
    "# <Your answer goes here>"
   ]
  },
  {
   "cell_type": "markdown",
   "id": "cf1547bf-48df-4013-954d-3f1e69d6953c",
   "metadata": {},
   "source": [
    "### 6. Do this in a loop over an appropriate horizon, saving your incremental TFRs and ASFRs in a list, dataframe, or otherwise"
   ]
  },
  {
   "cell_type": "code",
   "execution_count": 10,
   "id": "26c32ab0-f6a4-4bb3-b76d-da45748b77dc",
   "metadata": {},
   "outputs": [],
   "source": [
    "# <Your answer goes here>"
   ]
  },
  {
   "cell_type": "markdown",
   "id": "d62d6fd5-48d9-4ecf-a7b3-9a9b8e1ead9e",
   "metadata": {},
   "source": [
    "### 7. Visualise the TFR pathway."
   ]
  },
  {
   "cell_type": "code",
   "execution_count": 11,
   "id": "5ec55a34-024f-42b3-8f24-dd68acf14c93",
   "metadata": {},
   "outputs": [],
   "source": [
    "# <Your answer goes here>"
   ]
  },
  {
   "cell_type": "markdown",
   "id": "89fd2f9b-9b0f-4e49-bbe9-ac66bca47ddf",
   "metadata": {},
   "source": [
    "### 8. Repeat this, changing the target improvement parameters. Visualise your results. How do they change?"
   ]
  },
  {
   "cell_type": "code",
   "execution_count": 12,
   "id": "45fb79e0-d107-489f-8196-88cee28ccd00",
   "metadata": {},
   "outputs": [],
   "source": [
    "# <Your answer goes here>"
   ]
  }
 ],
 "metadata": {
  "kernelspec": {
   "display_name": "Python 3 (ipykernel)",
   "language": "python",
   "name": "python3"
  },
  "language_info": {
   "codemirror_mode": {
    "name": "ipython",
    "version": 3
   },
   "file_extension": ".py",
   "mimetype": "text/x-python",
   "name": "python",
   "nbconvert_exporter": "python",
   "pygments_lexer": "ipython3",
   "version": "3.12.7"
  }
 },
 "nbformat": 4,
 "nbformat_minor": 5
}
