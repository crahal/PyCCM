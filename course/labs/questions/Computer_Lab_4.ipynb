{
 "cells": [
  {
   "cell_type": "markdown",
   "id": "d7c8bb45",
   "metadata": {},
   "source": [
    "# Demographic Research Methods and the PyCCM Library\n",
    "## Computer Lab 4: Combining previous labs into a projection\n",
    "## Instructor: Jiani Yan\n",
    "## Date: October 30th, 2025\n",
    "---\n",
    "\n",
    "In this class, we are going to learn about how to do some fertility calculations in Python. As before, Section 1 is most important. We will try to finish both sections in the class, but it might be that later sections should be done as a 'class homework'. Solutions for all sections will either be presented at the start of the second day, or at the end of the class, time permitting."
   ]
  },
  {
   "cell_type": "markdown",
   "id": "e4d71c5f",
   "metadata": {},
   "source": [
    "Every ~15 minutes we'll stretch our legs, drink some water, and then live code up some answers so everybody can catch up. Relax, you're doing great!"
   ]
  },
  {
   "cell_type": "code",
   "execution_count": null,
   "id": "c11ad9b2",
   "metadata": {},
   "outputs": [],
   "source": [
    "import numpy as np\n",
    "from pathlib import Path\n",
    "import os\n",
    "\n",
    "src_path= Path.cwd().parents[2]/'src'\n",
    "data_path = Path.cwd().parents[2]/'data'\n",
    "\n",
    "print(src_path)\n",
    "os.chdir(src_path)"
   ]
  },
  {
   "cell_type": "code",
   "execution_count": 1,
   "id": "e0ab4ca7",
   "metadata": {
    "ExecuteTime": {
     "end_time": "2025-10-30T10:21:43.226456Z",
     "start_time": "2025-10-30T10:21:42.741510Z"
    }
   },
   "outputs": [],
   "source": [
    "import numpy as np\n",
    "import pandas as pd\n",
    "\n",
    "from data_loaders import load_all_data\n",
    "from abridger import unabridge_df\n",
    "from fertility import compute_asfr, get_target_params\n",
    "from mortality import make_lifetable\n",
    "from helpers import _collapse_defunciones_01_24_to_04, _tfr_from_asfr_df, _smooth_tfr\n"
   ]
  },
  {
   "cell_type": "markdown",
   "id": "b201475f",
   "metadata": {},
   "source": [
    "## 1. Section 1: Loading data and unabridging\n",
    "\n",
    "---"
   ]
  },
  {
   "cell_type": "markdown",
   "id": "68ab6db0",
   "metadata": {},
   "source": [
    "### 1.1 Load in the conteos.rds file, using the data_loaders module or otherwise."
   ]
  },
  {
   "cell_type": "code",
   "execution_count": 1,
   "id": "f20508e9",
   "metadata": {},
   "outputs": [],
   "source": [
    "# <Your answer goes here>"
   ]
  },
  {
   "cell_type": "markdown",
   "id": "853cb938",
   "metadata": {},
   "source": [
    "### 1.2 Filter for your favorite DPTO. Lets focus on FEMALES first. Obtain one array/series for population counts, deaths, and fertility."
   ]
  },
  {
   "cell_type": "code",
   "execution_count": 2,
   "id": "e2927ab3",
   "metadata": {},
   "outputs": [],
   "source": [
    "# <Your answer goes here>"
   ]
  },
  {
   "cell_type": "markdown",
   "id": "5d00e650",
   "metadata": {},
   "source": [
    "### 1.3 Unabridge each of these series using tools from PyCCM."
   ]
  },
  {
   "cell_type": "code",
   "execution_count": 3,
   "id": "b81bbdb7",
   "metadata": {},
   "outputs": [],
   "source": [
    "# <Your answer goes here>"
   ]
  },
  {
   "cell_type": "markdown",
   "id": "97a65a4f",
   "metadata": {},
   "source": [
    "### 1.4 Use the code from labs 2 and 3 to calculate survivorship ratios and fertility rates just like before, but instead on un-abridged data."
   ]
  },
  {
   "cell_type": "code",
   "execution_count": 4,
   "id": "2ee80214",
   "metadata": {},
   "outputs": [],
   "source": [
    "# <Your answer goes here>"
   ]
  },
  {
   "cell_type": "markdown",
   "id": "bd09e3f5",
   "metadata": {},
   "source": [
    "### 1.5 This should give you the three things you need for creating a closed female only CCM:\n",
    "\n",
    "* Counts\n",
    "* Survivorship ratios\n",
    "* ASFRs."
   ]
  },
  {
   "cell_type": "markdown",
   "id": "3e12bfe9",
   "metadata": {},
   "source": [
    "## 2. Section 2: Building our first Leslie Matrices\n",
    "\n",
    "---"
   ]
  },
  {
   "cell_type": "markdown",
   "id": "199e7bd9",
   "metadata": {},
   "source": [
    "### 2.1 Define an empty numpy array of the appropriate size."
   ]
  },
  {
   "cell_type": "code",
   "execution_count": 5,
   "id": "8ef4b8a3",
   "metadata": {},
   "outputs": [],
   "source": [
    "# <Your answer goes here>"
   ]
  },
  {
   "cell_type": "markdown",
   "id": "cdb3ca20",
   "metadata": {},
   "source": [
    "### 2.2 Survive your ASFRs as defined in the lecture"
   ]
  },
  {
   "cell_type": "code",
   "execution_count": 6,
   "id": "b4b08aaf",
   "metadata": {},
   "outputs": [],
   "source": [
    "# <Your answer goes here>"
   ]
  },
  {
   "cell_type": "markdown",
   "id": "6aa71c1e",
   "metadata": {},
   "source": [
    "### 2.3 Position this corrected array into the appropriate place on the first row of the Leslie Matrix (noting early 0s)"
   ]
  },
  {
   "cell_type": "code",
   "execution_count": 7,
   "id": "b984ca9b",
   "metadata": {},
   "outputs": [],
   "source": [
    "# <Your answer goes here>"
   ]
  },
  {
   "cell_type": "markdown",
   "id": "159c61d2",
   "metadata": {},
   "source": [
    "### 2.4 Position this updated array into the appropriate place on the first row of the Leslie Matrix (noting early 0s)"
   ]
  },
  {
   "cell_type": "code",
   "execution_count": 8,
   "id": "92292402",
   "metadata": {},
   "outputs": [],
   "source": [
    "# <Your answer goes here>"
   ]
  },
  {
   "cell_type": "markdown",
   "id": "fe5e75c9",
   "metadata": {},
   "source": [
    "### 2.5 Take your survivorship ratios. These don't need adjusting (here). Position them on the lower off-diagonal (i.e. A_{i+1, i} forall i \\in{0, 90})."
   ]
  },
  {
   "cell_type": "code",
   "execution_count": 9,
   "id": "e562ff05",
   "metadata": {},
   "outputs": [],
   "source": [
    "# <Your answer goes here>"
   ]
  },
  {
   "cell_type": "markdown",
   "id": "a9cd84cf",
   "metadata": {},
   "source": [
    "### 2.6 Multiply this matrix by your population count array."
   ]
  },
  {
   "cell_type": "code",
   "execution_count": 10,
   "id": "2613171d",
   "metadata": {},
   "outputs": [],
   "source": [
    "# <Your answer goes here>"
   ]
  },
  {
   "cell_type": "markdown",
   "id": "e53c498f",
   "metadata": {},
   "source": [
    "### 2.7 In a loop or otherwise (e.g. exponentiating the LM), to create multi-year projections"
   ]
  },
  {
   "cell_type": "code",
   "execution_count": 11,
   "id": "a1a936ce",
   "metadata": {},
   "outputs": [],
   "source": [
    "# <Your answer goes here>"
   ]
  },
  {
   "cell_type": "markdown",
   "id": "3c0a0553",
   "metadata": {},
   "source": [
    "## 3. Section 3: Repeat this exercise, but instead for Males. Note, here, that we need a MF leslie matrix to survive the women giving births to males. We also need to adjust our SRB!"
   ]
  },
  {
   "cell_type": "code",
   "execution_count": 12,
   "id": "2d70ed6a",
   "metadata": {},
   "outputs": [],
   "source": [
    "\n",
    "# ---- code cell ----\n",
    "print(\"\\n\" + \"=\"*60)\n",
    "print(\"Section 3: Building Leslie Matrix for MALES\")\n",
    "print(\"=\"*60)\n",
    "\n",
    "# Get MALE data (SEXO = 1)\n",
    "df_male = df_dpto[df_dpto['SEXO'] == 1.0].copy()\n",
    "\n",
    "df_pop_m = df_male[(df_male['VARIABLE'] == 'poblacion_total') &\n",
    "                   (df_male['FUENTE'] == f'censo_{year}')].copy()\n",
    "\n",
    "df_deaths_m = df_male[(df_male['VARIABLE'] == 'defunciones') &\n",
    "                      (df_male['FUENTE'] == f'censo_{year}')].copy()\n",
    "\n",
    "# Unabridge male data\n",
    "df_deaths_m_fixed = _collapse_defunciones_01_24_to_04(df_deaths_m)\n",
    "\n",
    "df_pop_m_1yr = unabridge_df(\n",
    "    df_pop_m,\n",
    "    series_keys=['DPTO_NOMBRE', 'ANO', 'SEXO', 'VARIABLE', 'FUENTE'],\n",
    "    value_col='VALOR',\n",
    "    ridge=1e-6\n",
    ")\n",
    "\n",
    "df_deaths_m_1yr = unabridge_df(\n",
    "    df_deaths_m_fixed,\n",
    "    series_keys=['DPTO_NOMBRE', 'ANO', 'SEXO', 'VARIABLE', 'FUENTE'],\n",
    "    value_col='VALOR',\n",
    "    ridge=1e-6\n",
    ")\n",
    "\n",
    "# Build male life table\n",
    "pop_m_by_age = df_pop_m_1yr.groupby('EDAD')['VALOR'].sum()\n",
    "deaths_m_by_age = df_deaths_m_1yr.groupby('EDAD')['VALOR'].sum()\n",
    "\n",
    "# Filter out NaN ages and align to expected age range\n",
    "pop_m_by_age = pop_m_by_age[pop_m_by_age.index.notna()]\n",
    "deaths_m_by_age = deaths_m_by_age[deaths_m_by_age.index.notna()]\n",
    "\n",
    "# Reindex to ensure we have all ages\n",
    "pop_m_by_age = pop_m_by_age.reindex(ages_1yr, fill_value=0.0)\n",
    "deaths_m_by_age = deaths_m_by_age.reindex(ages_1yr, fill_value=0.0)\n",
    "\n",
    "lt_male = make_lifetable(\n",
    "    ages=pop_m_by_age.index,  # Pass the age index\n",
    "    population=pop_m_by_age.values,\n",
    "    deaths=deaths_m_by_age.values,\n",
    "    radix=100000,\n",
    "    use_ma=True,\n",
    "    ma_window=5\n",
    ")\n",
    "\n",
    "print(f\"\\n✓ Male life table calculated:\")\n",
    "print(f\"  Male life expectancy (e_0): {lt_male.iloc[0]['ex']:.2f} years\")\n",
    "\n",
    "# Calculate male survivorship ratios\n",
    "survivorship_m = np.zeros(len(ages_1yr))\n",
    "lx_values_m = lt_male['lx'].values\n",
    "\n",
    "for i in range(len(ages_1yr) - 1):\n",
    "    if lx_values_m[i] > 0:\n",
    "        survivorship_m[i] = lx_values_m[i + 1] / lx_values_m[i]\n",
    "    else:\n",
    "        survivorship_m[i] = 0.0\n",
    "\n",
    "ex_last_m = lt_male.iloc[-1]['ex']\n",
    "if ex_last_m > 0:\n",
    "    survivorship_m[-1] = np.exp(-1.0 / ex_last_m)\n",
    "else:\n",
    "    survivorship_m[-1] = 0.0\n",
    "\n",
    "# Create male population vector\n",
    "population_m = pop_m_by_age.reindex(ages_1yr, fill_value=0.0).values\n",
    "\n",
    "print(f\"  Total male population: {population_m.sum():,.0f}\")\n",
    "print(f\"  Infant survival (age 0→1): {survivorship_m[0]:.4f}\")\n",
    "\n",
    "# Build male Leslie matrix\n",
    "# Note: Males are born from FEMALE fertility, so first row uses female ASFR\n",
    "leslie_matrix_M = np.zeros((n_ages, n_ages))\n",
    "\n",
    "# Male births from female fertility (proportion male = SRB / (1 + SRB))\n",
    "prop_male = srb / (1.0 + srb)\n",
    "\n",
    "# Survived ASFR for male births\n",
    "survived_asfr_m = np.zeros(n_ages)\n",
    "for i, age_str in enumerate(reproductive_ages):\n",
    "    age_idx = int(age_str)\n",
    "    if age_idx < n_ages - 1:\n",
    "        survived_asfr_m[age_idx] = (\n",
    "            asfr_values[i] * prop_male *\n",
    "            (survivorship_m[age_idx] + survivorship_m[age_idx + 1]) / 2\n",
    "        )\n",
    "    else:\n",
    "        survived_asfr_m[age_idx] = asfr_values[i] * prop_male * survivorship_m[age_idx]\n",
    "\n",
    "# Place in first row\n",
    "leslie_matrix_M[0, :] = survived_asfr_m\n",
    "\n",
    "# Male survivorship on sub-diagonal\n",
    "for i in range(n_ages - 1):\n",
    "    leslie_matrix_M[i + 1, i] = survivorship_m[i]\n",
    "\n",
    "leslie_matrix_M[-1, -1] = survivorship_m[-1]\n",
    "\n",
    "print(f\"\\n✓ Male Leslie Matrix complete\")\n",
    "print(f\"  Proportion male births: {prop_male:.3f}\")\n",
    "\n",
    "# Project males\n",
    "projections_m = np.zeros((projection_years + 1, n_ages))\n",
    "projections_m[0, :] = population_m\n",
    "\n",
    "for t in range(projection_years):\n",
    "    projections_m[t + 1, :] = leslie_matrix_M @ projections_m[t, :]\n",
    "\n",
    "total_pop_m = projections_m.sum(axis=1)\n",
    "\n",
    "print(f\"\\n✓ Male projections complete:\")\n",
    "print(f\"  Start year {year}:        {total_pop_m[0]:,.0f}\")\n",
    "print(f\"  End year {year+projection_years}:          {total_pop_m[-1]:,.0f}\")\n"
   ]
  },
  {
   "cell_type": "markdown",
   "id": "52621378",
   "metadata": {},
   "source": [
    "## 4. Section 4: Combine projections from Males and Females to give a total population projection for multiple years. Visualise this."
   ]
  },
  {
   "cell_type": "code",
   "execution_count": 13,
   "id": "e1c7ca70",
   "metadata": {},
   "outputs": [],
   "source": [
    "# <Your answer goes here>"
   ]
  },
  {
   "cell_type": "markdown",
   "id": "b5129dfd",
   "metadata": {},
   "source": [
    "## 5. Section 5: Add half of the migration array to the exposures for both mortality and fertility, male and female."
   ]
  },
  {
   "cell_type": "code",
   "execution_count": 14,
   "id": "5de920de",
   "metadata": {},
   "outputs": [],
   "source": [
    "# <Your answer goes here>"
   ]
  },
  {
   "cell_type": "markdown",
   "id": "66600930",
   "metadata": {},
   "source": [
    "## 6. Section 6: Incorporate MA mortality smoothing and target mortality improvements/fertility adjustments over time."
   ]
  },
  {
   "cell_type": "code",
   "execution_count": 15,
   "id": "6baf3b18",
   "metadata": {},
   "outputs": [],
   "source": [
    "# <Your answer goes here>"
   ]
  },
  {
   "cell_type": "markdown",
   "id": "b34bfddd",
   "metadata": {},
   "source": [
    "## 7. Section 7. Account for Omissions. Congratulations; you've just replicated PyCCM :)"
   ]
  },
  {
   "cell_type": "code",
   "execution_count": 16,
   "id": "5e3b1084",
   "metadata": {},
   "outputs": [],
   "source": [
    "# <Your answer goes here>"
   ]
  }
 ],
 "metadata": {
  "kernelspec": {
   "display_name": "Python 3 (ipykernel)",
   "language": "python",
   "name": "python3"
  },
  "language_info": {
   "codemirror_mode": {
    "name": "ipython",
    "version": 3
   },
   "file_extension": ".py",
   "mimetype": "text/x-python",
   "name": "python",
   "nbconvert_exporter": "python",
   "pygments_lexer": "ipython3",
   "version": "3.11.5"
  }
 },
 "nbformat": 4,
 "nbformat_minor": 5
}
