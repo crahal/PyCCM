{
 "cells": [
  {
   "cell_type": "markdown",
   "id": "d7c8bb45",
   "metadata": {},
   "source": [
    "# Demographic Research Methods and the PyCCM Library\n",
    "## Computer Lab 4: Combining previous labs into a projection\n",
    "## Instructor: Jiani Yan\n",
    "## Date: October 30th, 2025\n",
    "---\n",
    "\n",
    "In this class, we are going to learn about how to do some fertility calculations in Python. As before, Section 1 is most important. We will try to finish both sections in the class, but it might be that later sections should be done as a 'class homework'. Solutions for all sections will either be presented at the start of the second day, or at the end of the class, time permitting."
   ]
  },
  {
   "cell_type": "markdown",
   "id": "e4d71c5f",
   "metadata": {},
   "source": [
    "Every ~15 minutes we'll stretch our legs, drink some water, and then live code up some answers so everybody can catch up. Relax, you're doing great!"
   ]
  },
  {
   "cell_type": "markdown",
   "id": "b201475f",
   "metadata": {},
   "source": [
    "## 1. Section 1: Loading data and unabridging\n",
    "\n",
    "---"
   ]
  },
  {
   "cell_type": "markdown",
   "id": "68ab6db0",
   "metadata": {},
   "source": [
    "### 1.1 Load in the conteos.rds file, using the data_loaders module or otherwise."
   ]
  },
  {
   "cell_type": "code",
   "execution_count": 1,
   "id": "f20508e9",
   "metadata": {},
   "outputs": [],
   "source": [
    "# <Your answer goes here>"
   ]
  },
  {
   "cell_type": "markdown",
   "id": "853cb938",
   "metadata": {},
   "source": [
    "### 1.2 Filter for your favorite DPTO. Lets focus on FEMALES first. Obtain one array/series for population counts, deaths, and fertility."
   ]
  },
  {
   "cell_type": "code",
   "execution_count": 2,
   "id": "e2927ab3",
   "metadata": {},
   "outputs": [],
   "source": [
    "# <Your answer goes here>"
   ]
  },
  {
   "cell_type": "markdown",
   "id": "5d00e650",
   "metadata": {},
   "source": [
    "### 1.3 Unabridge each of these series using tools from PyCCM."
   ]
  },
  {
   "cell_type": "code",
   "execution_count": 3,
   "id": "b81bbdb7",
   "metadata": {},
   "outputs": [],
   "source": [
    "# <Your answer goes here>"
   ]
  },
  {
   "cell_type": "markdown",
   "id": "97a65a4f",
   "metadata": {},
   "source": [
    "### 1.4 Use the code from labs 2 and 3 to calculate survivorship ratios and fertility rates just like before, but instead on un-abridged data."
   ]
  },
  {
   "cell_type": "code",
   "execution_count": 4,
   "id": "2ee80214",
   "metadata": {},
   "outputs": [],
   "source": [
    "# <Your answer goes here>"
   ]
  },
  {
   "cell_type": "markdown",
   "id": "bd09e3f5",
   "metadata": {},
   "source": [
    "### 1.5 This should give you the three things you need for creating a closed female only CCM:\n",
    "\n",
    "* Counts\n",
    "* Survivorship ratios\n",
    "* ASFRs."
   ]
  },
  {
   "cell_type": "markdown",
   "id": "3e12bfe9",
   "metadata": {},
   "source": [
    "## 2. Section 2: Building our first Leslie Matrices\n",
    "\n",
    "---"
   ]
  },
  {
   "cell_type": "markdown",
   "id": "199e7bd9",
   "metadata": {},
   "source": [
    "### 2.1 Define an empty numpy array of the appropriate size."
   ]
  },
  {
   "cell_type": "code",
   "execution_count": 5,
   "id": "8ef4b8a3",
   "metadata": {},
   "outputs": [],
   "source": [
    "# <Your answer goes here>"
   ]
  },
  {
   "cell_type": "markdown",
   "id": "cdb3ca20",
   "metadata": {},
   "source": [
    "### 2.2 Survive your ASFRs as defined in the lecture"
   ]
  },
  {
   "cell_type": "code",
   "execution_count": 6,
   "id": "b4b08aaf",
   "metadata": {},
   "outputs": [],
   "source": [
    "# <Your answer goes here>"
   ]
  },
  {
   "cell_type": "markdown",
   "id": "6aa71c1e",
   "metadata": {},
   "source": [
    "### 2.3 Position this corrected array into the appropriate place on the first row of the Leslie Matrix (noting early 0s)"
   ]
  },
  {
   "cell_type": "code",
   "execution_count": 7,
   "id": "b984ca9b",
   "metadata": {},
   "outputs": [],
   "source": [
    "# <Your answer goes here>"
   ]
  },
  {
   "cell_type": "markdown",
   "id": "159c61d2",
   "metadata": {},
   "source": [
    "### 2.4 Position this updated array into the appropriate place on the first row of the Leslie Matrix (noting early 0s)"
   ]
  },
  {
   "cell_type": "code",
   "execution_count": 8,
   "id": "92292402",
   "metadata": {},
   "outputs": [],
   "source": [
    "# <Your answer goes here>"
   ]
  },
  {
   "cell_type": "markdown",
   "id": "fe5e75c9",
   "metadata": {},
   "source": [
    "### 2.5 Take your survivorship ratios. These don't need adjusting (here). Position them on the lower off-diagonal (i.e. A_{i+1, i} forall i \\in{0, 90})."
   ]
  },
  {
   "cell_type": "code",
   "execution_count": 9,
   "id": "e562ff05",
   "metadata": {},
   "outputs": [],
   "source": [
    "# <Your answer goes here>"
   ]
  },
  {
   "cell_type": "markdown",
   "id": "a9cd84cf",
   "metadata": {},
   "source": [
    "### 2.6 Multiply this matrix by your population count array."
   ]
  },
  {
   "cell_type": "code",
   "execution_count": 10,
   "id": "2613171d",
   "metadata": {},
   "outputs": [],
   "source": [
    "# <Your answer goes here>"
   ]
  },
  {
   "cell_type": "markdown",
   "id": "e53c498f",
   "metadata": {},
   "source": [
    "### 2.7 In a loop or otherwise (e.g. exponentiating the LM), to create multi-year projections"
   ]
  },
  {
   "cell_type": "code",
   "execution_count": 11,
   "id": "a1a936ce",
   "metadata": {},
   "outputs": [],
   "source": [
    "# <Your answer goes here>"
   ]
  },
  {
   "cell_type": "markdown",
   "id": "3c0a0553",
   "metadata": {},
   "source": [
    "## 3. Section 3: Repeat this exercise, but instead for Males. Note, here, that we need a MF leslie matrix to survive the women giving births to males. We also need to adjust our SRB!"
   ]
  },
  {
   "cell_type": "code",
   "execution_count": 12,
   "id": "2d70ed6a",
   "metadata": {},
   "outputs": [],
   "source": [
    "# <Your answer goes here>"
   ]
  },
  {
   "cell_type": "markdown",
   "id": "52621378",
   "metadata": {},
   "source": [
    "## 4. Section 4: Combine projections from Males and Females to give a total population projection for multiple years. Visualise this."
   ]
  },
  {
   "cell_type": "code",
   "execution_count": 13,
   "id": "e1c7ca70",
   "metadata": {},
   "outputs": [],
   "source": [
    "# <Your answer goes here>"
   ]
  },
  {
   "cell_type": "markdown",
   "id": "b5129dfd",
   "metadata": {},
   "source": [
    "## 5. Section 5: Add half of the migration array to the exposures for both mortality and fertility, male and female."
   ]
  },
  {
   "cell_type": "code",
   "execution_count": 14,
   "id": "5de920de",
   "metadata": {},
   "outputs": [],
   "source": [
    "# <Your answer goes here>"
   ]
  },
  {
   "cell_type": "markdown",
   "id": "66600930",
   "metadata": {},
   "source": [
    "## 6. Section 6: Incorporate MA mortality smoothing and target mortality improvements/fertility adjustments over time."
   ]
  },
  {
   "cell_type": "code",
   "execution_count": 15,
   "id": "6baf3b18",
   "metadata": {},
   "outputs": [],
   "source": [
    "# <Your answer goes here>"
   ]
  },
  {
   "cell_type": "markdown",
   "id": "b34bfddd",
   "metadata": {},
   "source": [
    "## 7. Section 7. Account for Omissions. Congratulations; you've just replicated PyCCM :)"
   ]
  },
  {
   "cell_type": "code",
   "execution_count": 16,
   "id": "5e3b1084",
   "metadata": {},
   "outputs": [],
   "source": [
    "# <Your answer goes here>"
   ]
  }
 ],
 "metadata": {
  "kernelspec": {
   "display_name": "Python 3 (ipykernel)",
   "language": "python",
   "name": "python3"
  },
  "language_info": {
   "codemirror_mode": {
    "name": "ipython",
    "version": 3
   },
   "file_extension": ".py",
   "mimetype": "text/x-python",
   "name": "python",
   "nbconvert_exporter": "python",
   "pygments_lexer": "ipython3",
   "version": "3.11.5"
  }
 },
 "nbformat": 4,
 "nbformat_minor": 5
}
