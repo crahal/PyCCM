{
 "cells": [
  {
   "cell_type": "markdown",
   "id": "d7c8bb45",
   "metadata": {},
   "source": [
    "# Demographic Research Methods and the PyCCM Library\n",
    "## Computer Lab 4: Combining previous labs into a projection\n",
    "## Instructor: Jiani Yan\n",
    "## Date: October 30th, 2025\n",
    "---\n",
    "\n",
    "In this class, we are going to learn about how to do some fertility calculations in Python. As before, Section 1 is most important. We will try to finish both sections in the class, but it might be that later sections should be done as a 'class homework'. Solutions for all sections will either be presented at the start of the second day, or at the end of the class, time permitting."
   ]
  },
  {
   "cell_type": "markdown",
   "id": "e4d71c5f",
   "metadata": {},
   "source": [
    "Every ~15 minutes we'll stretch our legs, drink some water, and then live code up some answers so everybody can catch up. Relax, you're doing great!"
   ]
  },
  {
   "cell_type": "code",
   "execution_count": 1,
   "id": "c11ad9b2",
   "metadata": {},
   "outputs": [
    {
     "name": "stdout",
     "output_type": "stream",
     "text": [
      "/Users/valler/Python/PyCCM/src\n"
     ]
    }
   ],
   "source": [
    "import numpy as np\n",
    "from pathlib import Path\n",
    "import os\n",
    "\n",
    "src_path= Path.cwd().parents[2]/'src'\n",
    "data_path = Path.cwd().parents[2]/'data'\n",
    "\n",
    "print(src_path)\n",
    "os.chdir(src_path)"
   ]
  },
  {
   "cell_type": "code",
   "execution_count": 2,
   "id": "e0ab4ca7",
   "metadata": {
    "ExecuteTime": {
     "end_time": "2025-10-30T10:21:43.226456Z",
     "start_time": "2025-10-30T10:21:42.741510Z"
    }
   },
   "outputs": [],
   "source": [
    "import numpy as np\n",
    "import pandas as pd\n",
    "\n",
    "from data_loaders import load_all_data\n",
    "from abridger import unabridge_df\n",
    "from fertility import compute_asfr, get_target_params\n",
    "from mortality import make_lifetable\n",
    "from helpers import _collapse_defunciones_01_24_to_04, _tfr_from_asfr_df, _smooth_tfr\n"
   ]
  },
  {
   "cell_type": "markdown",
   "id": "b201475f",
   "metadata": {},
   "source": [
    "## 1. Section 1: Loading data and unabridging\n",
    "\n",
    "---"
   ]
  },
  {
   "cell_type": "markdown",
   "id": "68ab6db0",
   "metadata": {},
   "source": [
    "### 1.1 Load in the conteos.rds file, using the data_loaders module or otherwise."
   ]
  },
  {
   "cell_type": "code",
   "execution_count": 3,
   "id": "f20508e9",
   "metadata": {},
   "outputs": [],
   "source": [
    "df = load_all_data(data_path)['conteos']\n",
    "df = pd.DataFrame(df)"
   ]
  },
  {
   "cell_type": "markdown",
   "id": "853cb938",
   "metadata": {},
   "source": [
    "### 1.2 Filter for your favorite DPTO. Lets focus on FEMALES first. Obtain one array/series for population counts, deaths, and fertility."
   ]
  },
  {
   "cell_type": "code",
   "execution_count": 4,
   "id": "e2927ab3",
   "metadata": {},
   "outputs": [],
   "source": [
    "dpto = \"BOLIVAR\"\n",
    "year = 2018 \n",
    "\n",
    "df_dpto = df[(df[\"ANO\"]==year)& (df['DPTO_NOMBRE']==dpto)].copy()"
   ]
  },
  {
   "cell_type": "code",
   "execution_count": 5,
   "id": "63b81f6b-c303-4bc2-9423-da600002fc31",
   "metadata": {},
   "outputs": [],
   "source": [
    "df_female = df_dpto[df_dpto['SEXO']==2].copy()"
   ]
  },
  {
   "cell_type": "code",
   "execution_count": 6,
   "id": "6ed07f82-f43e-4d6d-b0e6-86231a43ab35",
   "metadata": {},
   "outputs": [
    {
     "data": {
      "text/plain": [
       "array(['censo_2018', 'EEVV'], dtype=object)"
      ]
     },
     "execution_count": 6,
     "metadata": {},
     "output_type": "execute_result"
    }
   ],
   "source": [
    "df_female['FUENTE'].unique()"
   ]
  },
  {
   "cell_type": "code",
   "execution_count": 7,
   "id": "1bde84e7-baf4-4c3f-bf8f-490671da6ae1",
   "metadata": {},
   "outputs": [],
   "source": [
    "df_pop_f = df_female[(df_female['FUENTE']==\"censo_2018\") & (df_female['VARIABLE']=='poblacion_total')].copy() # data source \"FUENTE\" is censo_{year} ; VARIABLE is poblacion_total\n",
    "\n",
    "df_deaths_f  =  df_female[(df_female['FUENTE']==\"censo_2018\") & (df_female['VARIABLE']=='defunciones')].copy() # data source \"FUENTE\" is censo_{year}; VARIABLE is defunciones\n",
    "\n",
    "df_births_f = df_female[(df_female['FUENTE']==\"EEVV\") & (df_female['VARIABLE']=='nacimientos')].copy() # data source \"FUENTE\" is EEVV; VARIABLE is nacimientos"
   ]
  },
  {
   "cell_type": "code",
   "execution_count": 8,
   "id": "9fe854b5-fb87-4657-90f6-93b74706a649",
   "metadata": {},
   "outputs": [
    {
     "data": {
      "text/html": [
       "<div>\n",
       "<style scoped>\n",
       "    .dataframe tbody tr th:only-of-type {\n",
       "        vertical-align: middle;\n",
       "    }\n",
       "\n",
       "    .dataframe tbody tr th {\n",
       "        vertical-align: top;\n",
       "    }\n",
       "\n",
       "    .dataframe thead th {\n",
       "        text-align: right;\n",
       "    }\n",
       "</style>\n",
       "<table border=\"1\" class=\"dataframe\">\n",
       "  <thead>\n",
       "    <tr style=\"text-align: right;\">\n",
       "      <th></th>\n",
       "      <th>OMISION</th>\n",
       "      <th>DPTO_NOMBRE</th>\n",
       "      <th>DPTO_CODIGO</th>\n",
       "      <th>ANO</th>\n",
       "      <th>EDAD</th>\n",
       "      <th>VARIABLE</th>\n",
       "      <th>VALOR</th>\n",
       "      <th>FUENTE</th>\n",
       "      <th>SEXO</th>\n",
       "    </tr>\n",
       "  </thead>\n",
       "  <tbody>\n",
       "    <tr>\n",
       "      <th>34255</th>\n",
       "      <td>4.0</td>\n",
       "      <td>BOLIVAR</td>\n",
       "      <td>13.0</td>\n",
       "      <td>2018.0</td>\n",
       "      <td>10-14</td>\n",
       "      <td>nacimientos</td>\n",
       "      <td>166.0</td>\n",
       "      <td>EEVV</td>\n",
       "      <td>2.0</td>\n",
       "    </tr>\n",
       "    <tr>\n",
       "      <th>34257</th>\n",
       "      <td>4.0</td>\n",
       "      <td>BOLIVAR</td>\n",
       "      <td>13.0</td>\n",
       "      <td>2018.0</td>\n",
       "      <td>15-19</td>\n",
       "      <td>nacimientos</td>\n",
       "      <td>3449.0</td>\n",
       "      <td>EEVV</td>\n",
       "      <td>2.0</td>\n",
       "    </tr>\n",
       "  </tbody>\n",
       "</table>\n",
       "</div>"
      ],
      "text/plain": [
       "       OMISION DPTO_NOMBRE  DPTO_CODIGO     ANO   EDAD     VARIABLE   VALOR  \\\n",
       "34255      4.0     BOLIVAR         13.0  2018.0  10-14  nacimientos   166.0   \n",
       "34257      4.0     BOLIVAR         13.0  2018.0  15-19  nacimientos  3449.0   \n",
       "\n",
       "      FUENTE  SEXO  \n",
       "34255   EEVV   2.0  \n",
       "34257   EEVV   2.0  "
      ]
     },
     "execution_count": 8,
     "metadata": {},
     "output_type": "execute_result"
    }
   ],
   "source": [
    "df_births_f.head(2)"
   ]
  },
  {
   "cell_type": "markdown",
   "id": "5d00e650",
   "metadata": {},
   "source": [
    "### 1.3 Unabridge each of these series using tools from PyCCM."
   ]
  },
  {
   "cell_type": "code",
   "execution_count": 9,
   "id": "7368bd60-e4f4-4636-b455-ed52c060de79",
   "metadata": {},
   "outputs": [
    {
     "data": {
      "text/plain": [
       "array(['0-1', '10-14', '15-19', '2-4', '20-24', '25-29', '30-34', '35-39',\n",
       "       '40-44', '45-49', '5-9', '50-54', '55-59', '60-64', '65-69',\n",
       "       '70-74', '75-79', '80-84', '85-89', '90+', nan], dtype=object)"
      ]
     },
     "execution_count": 9,
     "metadata": {},
     "output_type": "execute_result"
    }
   ],
   "source": [
    "df_deaths_f['EDAD'].unique()"
   ]
  },
  {
   "cell_type": "code",
   "execution_count": 10,
   "id": "f5416405-c959-45a2-b3f2-1c2648587851",
   "metadata": {},
   "outputs": [
    {
     "data": {
      "text/plain": [
       "array(['0-4', '5-9', '10-14', '15-19', '20-24', '25-29', '30-34', '35-39',\n",
       "       '40-44', '45-49', '50-54', '55-59', '60-64', '65-69', '70-74',\n",
       "       '75-79', '80-84', '85-89', '90+', nan], dtype=object)"
      ]
     },
     "execution_count": 10,
     "metadata": {},
     "output_type": "execute_result"
    }
   ],
   "source": [
    "df_pop_f['EDAD'].unique()"
   ]
  },
  {
   "cell_type": "code",
   "execution_count": 11,
   "id": "b81bbdb7",
   "metadata": {},
   "outputs": [],
   "source": [
    "df_deaths_f_fixed = _collapse_defunciones_01_24_to_04(df_deaths_f) # combine the 0-1 and 2-4 to 0-4"
   ]
  },
  {
   "cell_type": "code",
   "execution_count": 12,
   "id": "d6cb0327-f678-4744-8476-11bec86d6d21",
   "metadata": {},
   "outputs": [
    {
     "data": {
      "text/plain": [
       "array(['10-14', '15-19', '20-24', '25-29', '30-34', '35-39', '40-44',\n",
       "       '45-49', '5-9', '50-54', '55-59', '60-64', '65-69', '70-74',\n",
       "       '75-79', '80-84', '85-89', '90+', nan, '0-4'], dtype=object)"
      ]
     },
     "execution_count": 12,
     "metadata": {},
     "output_type": "execute_result"
    }
   ],
   "source": [
    "df_deaths_f_fixed['EDAD'].unique()"
   ]
  },
  {
   "cell_type": "code",
   "execution_count": 13,
   "id": "dc76f85a-616c-409b-833f-dfa13c7195b6",
   "metadata": {},
   "outputs": [],
   "source": [
    "# unabridge 5-year age groups to 1 year age groups\n",
    "df_deaths_f_1yr = unabridge_df(df_deaths_f_fixed, \n",
    "                           series_keys=[\"DPTO_NOMBRE\",\"ANO\",\"SEXO\",\"VARIABLE\",\"FUENTE\"],\n",
    "                           value_col = \"VALOR\")"
   ]
  },
  {
   "cell_type": "code",
   "execution_count": 14,
   "id": "27bfc921-6c73-4b70-ac34-b6aa9605b6a4",
   "metadata": {},
   "outputs": [
    {
     "data": {
      "text/plain": [
       "92"
      ]
     },
     "execution_count": 14,
     "metadata": {},
     "output_type": "execute_result"
    }
   ],
   "source": [
    "len(df_deaths_f_1yr['EDAD'])"
   ]
  },
  {
   "cell_type": "code",
   "execution_count": 16,
   "id": "e12681e2-2f91-4a05-8532-e8e599ee9976",
   "metadata": {},
   "outputs": [],
   "source": [
    "df_pop_f_1yr = unabridge_df(df_pop_f,\n",
    "                           series_keys=[\"DPTO_NOMBRE\",\"ANO\",\"SEXO\",\"VARIABLE\",\"FUENTE\"],\n",
    "                           value_col = \"VALOR\")"
   ]
  },
  {
   "cell_type": "code",
   "execution_count": 17,
   "id": "cfcc09d4-0d0b-450f-a941-496fd7d41b21",
   "metadata": {},
   "outputs": [
    {
     "data": {
      "text/plain": [
       "92"
      ]
     },
     "execution_count": 17,
     "metadata": {},
     "output_type": "execute_result"
    }
   ],
   "source": [
    "len(df_pop_f_1yr['EDAD'])"
   ]
  },
  {
   "cell_type": "code",
   "execution_count": 36,
   "id": "6e539d09-5b01-41c9-9977-b4a060b4457e",
   "metadata": {},
   "outputs": [
    {
     "name": "stderr",
     "output_type": "stream",
     "text": [
      "/Users/valler/Python/PyCCM/src/abridger.py:329: FutureWarning: The behavior of DataFrame concatenation with empty or all-NA entries is deprecated. In a future version, this will no longer exclude empty or all-NA columns when determining the result dtypes. To retain the old behavior, exclude the relevant entries before the concat operation.\n",
      "  result = pd.concat([single, openp], ignore_index=True)\n"
     ]
    }
   ],
   "source": [
    "df_births_f_1yr = unabridge_df(df_births_f,\n",
    "                           series_keys=[\"DPTO_NOMBRE\",\"ANO\",\"SEXO\",\"VARIABLE\",\"FUENTE\"],\n",
    "                           value_col = \"VALOR\")"
   ]
  },
  {
   "cell_type": "code",
   "execution_count": 19,
   "id": "fd041f3f-4789-4933-8961-c10844cd5189",
   "metadata": {},
   "outputs": [],
   "source": [
    "ages_1yr = [str(i) for i in range(90)]+['90+']"
   ]
  },
  {
   "cell_type": "code",
   "execution_count": 25,
   "id": "142f117f-4f35-4e7b-b188-4f5d52bfa2f6",
   "metadata": {},
   "outputs": [
    {
     "data": {
      "text/plain": [
       "91"
      ]
     },
     "execution_count": 25,
     "metadata": {},
     "output_type": "execute_result"
    }
   ],
   "source": [
    "len(df_pop_f_1yr)"
   ]
  },
  {
   "cell_type": "code",
   "execution_count": 24,
   "id": "67de20a8-fe56-4b0d-bace-ef800d63f0f9",
   "metadata": {},
   "outputs": [],
   "source": [
    "# delete nans \n",
    "df_pop_f_1yr = df_pop_f_1yr[df_pop_f_1yr['EDAD'].notna()]\n",
    "df_deaths_f_1yr = df_deaths_f_1yr[df_deaths_f_1yr['EDAD'].notna()]\n",
    "\n",
    "# sort the dfs \n",
    "df_pop_f_1yr.set_index('EDAD',inplace=True)\n",
    "df_pop_f_1yr = df_pop_f_1yr.reindex(ages_1yr,fill_value=0)\n",
    "\n",
    "df_deaths_f_1yr.set_index('EDAD',inplace=True)\n",
    "df_deaths_f_1yr = df_deaths_f_1yr.reindex(ages_1yr,fill_value=0)\n"
   ]
  },
  {
   "cell_type": "markdown",
   "id": "97a65a4f",
   "metadata": {},
   "source": [
    "### 1.4 Use the code from labs 2 and 3 to calculate survivorship ratios and fertility rates just like before, but instead on un-abridged data."
   ]
  },
  {
   "cell_type": "code",
   "execution_count": 28,
   "id": "2ee80214",
   "metadata": {},
   "outputs": [],
   "source": [
    "lt_female = make_lifetable(ages = df_pop_f_1yr.index, \n",
    "                          population = df_pop_f_1yr['VALOR'].values,\n",
    "                          deaths = df_deaths_f_1yr['VALOR'].values, \n",
    "                          radix = 100000)"
   ]
  },
  {
   "cell_type": "code",
   "execution_count": 43,
   "id": "973cf85b-6767-4697-aac2-9eb9d3fbbdd2",
   "metadata": {},
   "outputs": [
    {
     "data": {
      "text/plain": [
       "91"
      ]
     },
     "execution_count": 43,
     "metadata": {},
     "output_type": "execute_result"
    }
   ],
   "source": [
    "len(df_pop_f_1yr)"
   ]
  },
  {
   "cell_type": "code",
   "execution_count": 31,
   "id": "d22dfb0a-c91d-45a4-84ef-92a4b07a047e",
   "metadata": {},
   "outputs": [],
   "source": [
    "# survivorship S_x = l_{x+1}/l_x\n",
    "survivorship_f  = np.zeros(len(ages_1yr))\n",
    "lx_values = lt_female['lx'].values"
   ]
  },
  {
   "cell_type": "code",
   "execution_count": 32,
   "id": "cf15a3df-b7d6-48c0-aadf-eb753dc59ae0",
   "metadata": {},
   "outputs": [],
   "source": [
    "for i in range(len(ages_1yr)-1):\n",
    "    if lx_values[i]>0:\n",
    "        survivorship_f[i] = lx_values[i+1]/lx_values[i]\n",
    "    else:\n",
    "        survivorship_f[i] = 0.0\n",
    "        "
   ]
  },
  {
   "cell_type": "code",
   "execution_count": 34,
   "id": "b6f3acf4-b444-44c4-a139-38ffe490e821",
   "metadata": {},
   "outputs": [],
   "source": [
    "ex_last = lt_female.iloc[-1]['ex'] \n",
    "survivorship_f[-1] = np.exp(-1.0/ex_last)"
   ]
  },
  {
   "cell_type": "code",
   "execution_count": 37,
   "id": "7d8f038f-e117-446c-93e7-be1d5600c023",
   "metadata": {},
   "outputs": [],
   "source": [
    "births_f_by_age = df_births_f_1yr.groupby(\"EDAD\")['VALOR'].sum()"
   ]
  },
  {
   "cell_type": "code",
   "execution_count": 38,
   "id": "2e203a12-ca49-49c2-86d5-52c5f012c36e",
   "metadata": {},
   "outputs": [],
   "source": [
    "asfr_result = compute_asfr(ages = births_f_by_age.index, \n",
    "                           population=df_pop_f_1yr['VALOR'],\n",
    "                           births = births_f_by_age)"
   ]
  },
  {
   "cell_type": "code",
   "execution_count": 39,
   "id": "d5341bf7-a392-4e68-8d0e-3390d171e80d",
   "metadata": {},
   "outputs": [],
   "source": [
    "asfr_values = asfr_result['asfr'].values \n",
    "tfr_female = _tfr_from_asfr_df(asfr_result)"
   ]
  },
  {
   "cell_type": "code",
   "execution_count": 40,
   "id": "05c032f5-a29c-4c66-9696-0aa60c9b3fa5",
   "metadata": {},
   "outputs": [
    {
     "data": {
      "text/plain": [
       "1.0843385511232186"
      ]
     },
     "execution_count": 40,
     "metadata": {},
     "output_type": "execute_result"
    }
   ],
   "source": [
    "tfr_female"
   ]
  },
  {
   "cell_type": "markdown",
   "id": "bd09e3f5",
   "metadata": {},
   "source": [
    "### 1.5 This should give you the three things you need for creating a closed female only CCM:\n",
    "\n",
    "* Counts\n",
    "* Survivorship ratios\n",
    "* ASFRs."
   ]
  },
  {
   "cell_type": "markdown",
   "id": "3e12bfe9",
   "metadata": {},
   "source": [
    "## 2. Section 2: Building our first Leslie Matrices\n",
    "\n",
    "---"
   ]
  },
  {
   "cell_type": "markdown",
   "id": "199e7bd9",
   "metadata": {},
   "source": [
    "### 2.1 Define an empty numpy array of the appropriate size."
   ]
  },
  {
   "cell_type": "code",
   "execution_count": 41,
   "id": "8ef4b8a3",
   "metadata": {},
   "outputs": [],
   "source": [
    "n_ages = len(ages_1yr)\n",
    "leslie_matrix_f = np.zeros((n_ages,n_ages))"
   ]
  },
  {
   "cell_type": "code",
   "execution_count": 42,
   "id": "b4147882-b523-4afe-9bf2-45d44fc88ca5",
   "metadata": {},
   "outputs": [
    {
     "data": {
      "text/plain": [
       "array([[0., 0., 0., ..., 0., 0., 0.],\n",
       "       [0., 0., 0., ..., 0., 0., 0.],\n",
       "       [0., 0., 0., ..., 0., 0., 0.],\n",
       "       ...,\n",
       "       [0., 0., 0., ..., 0., 0., 0.],\n",
       "       [0., 0., 0., ..., 0., 0., 0.],\n",
       "       [0., 0., 0., ..., 0., 0., 0.]], shape=(91, 91))"
      ]
     },
     "execution_count": 42,
     "metadata": {},
     "output_type": "execute_result"
    }
   ],
   "source": [
    "leslie_matrix_f"
   ]
  },
  {
   "cell_type": "markdown",
   "id": "cdb3ca20",
   "metadata": {},
   "source": [
    "### 2.2 Survive your ASFRs as defined in the lecture"
   ]
  },
  {
   "cell_type": "code",
   "execution_count": 44,
   "id": "b4b08aaf",
   "metadata": {},
   "outputs": [],
   "source": [
    "prop_female = 0.49 "
   ]
  },
  {
   "cell_type": "code",
   "execution_count": 45,
   "id": "80723b3d-6e65-4e01-98e6-aa8b6a0e77b5",
   "metadata": {},
   "outputs": [],
   "source": [
    "survived_asfr = np.zeros(n_ages)\n",
    "\n",
    "for i, age_str in enumerate(births_f_by_age.index.tolist()):\n",
    "    age_idx = int(age_str)\n",
    "\n",
    "    if age_idx < n_ages -1:\n",
    "        survived_asfr[age_idx] =  (asfr_values[i]* prop_female * \n",
    "                                  (survivorship_f[age_idx]+survivorship_f[age_idx+1])/2)\n",
    "    else:\n",
    "        survived_asfr[age_idx] = asfr_values[i] * prop_female * survivorship_f[age_idx]\n",
    "        "
   ]
  },
  {
   "cell_type": "code",
   "execution_count": 47,
   "id": "e6d3a5b0-0b3f-4766-b465-39dacf938c11",
   "metadata": {},
   "outputs": [
    {
     "data": {
      "text/plain": [
       "np.float64(8296.483750378884)"
      ]
     },
     "execution_count": 47,
     "metadata": {},
     "output_type": "execute_result"
    }
   ],
   "source": [
    "survived_asfr@df_pop_f_1yr['VALOR'].values"
   ]
  },
  {
   "cell_type": "code",
   "execution_count": null,
   "id": "542cae2d-7111-4291-9a43-cdbd49ddde51",
   "metadata": {},
   "outputs": [],
   "source": [
    "survived_asfr"
   ]
  },
  {
   "cell_type": "code",
   "execution_count": 48,
   "id": "858cb1c7-62e4-4008-abd1-4794fc920492",
   "metadata": {},
   "outputs": [
    {
     "data": {
      "text/plain": [
       "41"
      ]
     },
     "execution_count": 48,
     "metadata": {},
     "output_type": "execute_result"
    }
   ],
   "source": [
    "len([i for i in survived_asfr if i>0])"
   ]
  },
  {
   "cell_type": "markdown",
   "id": "6aa71c1e",
   "metadata": {},
   "source": [
    "### 2.3 Position this corrected array into the appropriate place on the first row of the Leslie Matrix (noting early 0s)"
   ]
  },
  {
   "cell_type": "code",
   "execution_count": 49,
   "id": "b984ca9b",
   "metadata": {},
   "outputs": [],
   "source": [
    "leslie_matrix_f[0:] = survived_asfr"
   ]
  },
  {
   "cell_type": "code",
   "execution_count": 50,
   "id": "7a66ab7b-6f43-40cf-88c9-0152e7125af5",
   "metadata": {},
   "outputs": [],
   "source": [
    "for i in range(n_ages -1): \n",
    "    leslie_matrix_f[i+1,i] = survivorship_f[i]\n",
    "    \n",
    "leslie_matrix_f[-1,-1] = survivorship_f[-1]"
   ]
  },
  {
   "cell_type": "code",
   "execution_count": 51,
   "id": "7ce4635d-cdd0-4505-ac8d-af3278e4593f",
   "metadata": {},
   "outputs": [
    {
     "data": {
      "text/plain": [
       "array([0.99533301, 0.99588487, 0.99645745, 0.99742748, 0.9983227 ,\n",
       "       0.99907652, 0.99964163, 0.99985603, 0.99990799, 0.99992127,\n",
       "       0.99991029, 0.99984213, 0.9997122 , 0.99964289, 0.99962682,\n",
       "       0.99963814, 0.99964974, 0.99964423, 0.99961212, 0.9995521 ,\n",
       "       0.99947177, 0.99939093, 0.99933386, 0.99931354, 0.99931956,\n",
       "       0.99932967, 0.99932218, 0.99928115, 0.9991964 , 0.99906947,\n",
       "       0.99891632, 0.99876822, 0.99866176, 0.99862126, 0.99864312,\n",
       "       0.99870468, 0.99877659, 0.99883307, 0.99885757, 0.99884596,\n",
       "       0.99880114, 0.99873095, 0.99864642, 0.99855749, 0.99846566,\n",
       "       0.99836592, 0.99824982, 0.99810887, 0.99793829, 0.99774205,\n",
       "       0.99752992, 0.99731371, 0.99710253, 0.99689705, 0.99668343,\n",
       "       0.99643971, 0.99614249, 0.99577353, 0.99532855, 0.99483126,\n",
       "       0.99432871, 0.99388057, 0.99353825, 0.99331553, 0.99315713,\n",
       "       0.99296293, 0.99261781, 0.9920135 , 0.99106691, 0.98976584,\n",
       "       0.98818114, 0.98647574, 0.98486958, 0.98354439, 0.98251172,\n",
       "       0.98162999, 0.98066209, 0.97933948, 0.97741942, 0.97476725,\n",
       "       0.97134742, 0.96723158, 0.96259213, 0.95764442, 0.95250551,\n",
       "       0.94715632, 0.94140908, 0.93487634, 0.90726476, 0.89605853,\n",
       "       0.38860952])"
      ]
     },
     "execution_count": 51,
     "metadata": {},
     "output_type": "execute_result"
    }
   ],
   "source": [
    "survivorship_f"
   ]
  },
  {
   "cell_type": "code",
   "execution_count": 52,
   "id": "1d198cb3-f1d6-4486-916b-c6bdeea1bfdd",
   "metadata": {},
   "outputs": [
    {
     "name": "stdout",
     "output_type": "stream",
     "text": [
      "[[0.         0.         0.         ... 0.         0.         0.        ]\n",
      " [0.99533301 0.         0.         ... 0.         0.         0.        ]\n",
      " [0.         0.99588487 0.         ... 0.         0.         0.        ]\n",
      " ...\n",
      " [0.         0.         0.         ... 0.         0.         0.        ]\n",
      " [0.         0.         0.         ... 0.90726476 0.         0.        ]\n",
      " [0.         0.         0.         ... 0.         0.89605853 0.38860952]]\n"
     ]
    }
   ],
   "source": [
    "print(leslie_matrix_f)"
   ]
  },
  {
   "cell_type": "code",
   "execution_count": 53,
   "id": "6fd47468-5012-44a3-9c75-3f2f0585f615",
   "metadata": {},
   "outputs": [],
   "source": [
    "population_f_next = leslie_matrix_f @ df_pop_f_1yr['VALOR'].values"
   ]
  },
  {
   "cell_type": "code",
   "execution_count": 61,
   "id": "689d0eb2-1c66-4933-ac9a-23c903f72f23",
   "metadata": {},
   "outputs": [
    {
     "data": {
      "text/plain": [
       "array([ 8296.48375038, 24069.75814043, 24005.15975534, 23998.47363766,\n",
       "       23998.0418358 , 23996.41888712, 24432.407681  , 25005.43856878,\n",
       "       25499.67653231, 25792.65349985, 25848.86804684, 25718.76833177,\n",
       "       25539.72861808, 25388.06581985, 25277.44691463, 25270.14164497,\n",
       "       25328.04428951, 25369.14650327, 25339.97193422, 25215.55632111,\n",
       "       24999.46132507, 24723.77617394, 24449.14590189, 24213.73887491,\n",
       "       24033.00791305, 23899.52306382, 23783.16845328, 23631.33446895,\n",
       "       23414.96196681, 23128.54939309, 22790.23704077, 22441.81186839,\n",
       "       22148.66854438, 21947.05387863, 21843.87193184, 21816.51990171,\n",
       "       21813.0144576 , 21752.12957872, 21584.96526176, 21295.04875946,\n",
       "       20898.39675509, 20443.43494319, 20010.94112824, 19656.77040082,\n",
       "       19411.80337087, 19281.88292179, 19247.85861777, 19265.6331272 ,\n",
       "       19298.44508411, 19316.91078157, 19299.08266661, 19230.41514655,\n",
       "       19103.71603619, 18916.25386411, 18669.26906655, 18368.77241034,\n",
       "       18025.58443719, 17654.61387992, 17268.57794212, 16878.06802132,\n",
       "       16491.63684865, 16115.70849475, 15754.46076094, 15409.17273352,\n",
       "       15078.05265555, 14756.10401109, 14435.38501472, 14105.25550712,\n",
       "       13761.31026911, 13405.46886154, 13046.13476453, 12698.07050503,\n",
       "       12382.21424697, 12110.99872782, 11888.06367826, 11707.9978028 ,\n",
       "       11556.63482917, 11411.35400342, 11256.33778616, 11082.7558722 ,\n",
       "       10888.98304478, 10680.45009269, 10469.44630785, 10265.12495098,\n",
       "       10073.31020445,  9896.28651174,  9732.92122256,  9578.82369822,\n",
       "        9430.35699127,  9263.75341032,  9705.96049265])"
      ]
     },
     "execution_count": 61,
     "metadata": {},
     "output_type": "execute_result"
    }
   ],
   "source": [
    "population_f_next"
   ]
  },
  {
   "cell_type": "markdown",
   "id": "159c61d2",
   "metadata": {},
   "source": [
    "### 2.4 Position this updated array into the appropriate place on the first row of the Leslie Matrix (noting early 0s)"
   ]
  },
  {
   "cell_type": "code",
   "execution_count": 56,
   "id": "92292402",
   "metadata": {},
   "outputs": [],
   "source": [
    "# <Your answer goes here>"
   ]
  },
  {
   "cell_type": "markdown",
   "id": "fe5e75c9",
   "metadata": {},
   "source": [
    "### 2.5 Take your survivorship ratios. These don't need adjusting (here). Position them on the lower off-diagonal (i.e. A_{i+1, i} forall i \\in{0, 90})."
   ]
  },
  {
   "cell_type": "code",
   "execution_count": 57,
   "id": "e562ff05",
   "metadata": {},
   "outputs": [],
   "source": [
    "# <Your answer goes here>"
   ]
  },
  {
   "cell_type": "markdown",
   "id": "a9cd84cf",
   "metadata": {},
   "source": [
    "### 2.6 Multiply this matrix by your population count array."
   ]
  },
  {
   "cell_type": "code",
   "execution_count": 58,
   "id": "0a266315-84ae-41fb-b5b1-c6ad0a980648",
   "metadata": {},
   "outputs": [
    {
     "data": {
      "text/plain": [
       "91"
      ]
     },
     "execution_count": 58,
     "metadata": {},
     "output_type": "execute_result"
    }
   ],
   "source": [
    "len(df_pop_f_1yr['VALOR'].values)"
   ]
  },
  {
   "cell_type": "code",
   "execution_count": 59,
   "id": "a60c7722-b66c-4b2c-934c-687a396c8ad9",
   "metadata": {},
   "outputs": [
    {
     "data": {
      "text/plain": [
       "EDAD\n",
       "0      15847.233202\n",
       "1      15773.586309\n",
       "2      15757.812723\n",
       "3      15742.054910\n",
       "4      15726.312855\n",
       "           ...     \n",
       "86      1362.149547\n",
       "87      1212.859061\n",
       "88      1066.138251\n",
       "89       920.274049\n",
       "90+     1505.000000\n",
       "Name: VALOR, Length: 91, dtype: float64"
      ]
     },
     "execution_count": 59,
     "metadata": {},
     "output_type": "execute_result"
    }
   ],
   "source": [
    "df_pop_f_1yr['VALOR']"
   ]
  },
  {
   "cell_type": "code",
   "execution_count": 60,
   "id": "2613171d",
   "metadata": {},
   "outputs": [],
   "source": [
    "projection_years = 50 \n",
    "years_lst = [year+i for i in range(projection_years+1)]\n",
    "\n",
    "projections_f = np.zeros((projection_years+1, n_ages))\n",
    "projections_f[0,:]= df_pop_f_1yr['VALOR'].values\n",
    "\n",
    "for t in range(projection_years):\n",
    "    projections_f[t+1,:] = leslie_matrix_f @ projections_f[t,:]\n",
    "    \n"
   ]
  },
  {
   "cell_type": "code",
   "execution_count": 64,
   "id": "b0f9444a-c3e0-42a2-b269-ab5bc046181d",
   "metadata": {},
   "outputs": [
    {
     "data": {
      "text/plain": [
       "51"
      ]
     },
     "execution_count": 64,
     "metadata": {},
     "output_type": "execute_result"
    }
   ],
   "source": [
    "len(years_lst)"
   ]
  },
  {
   "cell_type": "code",
   "execution_count": 70,
   "id": "7ce807a2-392f-460c-8c6e-5e8e39203740",
   "metadata": {},
   "outputs": [
    {
     "data": {
      "text/plain": [
       "array([28909.65967792, 47926.39997777, 60433.64113729, 68653.34763574,\n",
       "       84320.95435044, 84355.73690453, 84446.84681019, 84526.82410776,\n",
       "       84575.87313513, 85035.89535829, 85616.65259193, 86111.93780054,\n",
       "       86400.8402663 , 86388.39047722, 85965.23744763, 85360.433955  ,\n",
       "       84733.35621187, 84186.31206984, 83778.5397091 , 83469.86628937,\n",
       "       83182.09078412, 82870.72045497, 82526.11367005, 82166.97364607,\n",
       "       81833.39438988, 81581.03511189, 81434.09430571, 81386.95241655,\n",
       "       81412.69179326, 81467.75657731, 81494.09145304, 81460.67575325,\n",
       "       81363.08492875, 81219.87862385, 81070.42043506, 80974.11349893,\n",
       "       80962.3292352 , 81040.12482531, 81186.31045483, 81352.42275165,\n",
       "       81460.80629204, 81462.0131095 , 81332.75558543, 81078.56142182,\n",
       "       80737.32704048, 80383.19533288, 80071.93503341, 79841.34526174,\n",
       "       79706.53477961, 79656.88232001, 79654.6502884 , 79667.24480548,\n",
       "       79667.17365604, 79633.21209719, 79548.69947832, 79404.17295301,\n",
       "       79196.26792642, 78925.27510823, 78595.98712817, 78218.19233375,\n",
       "       77807.66488302, 77380.18722868, 76951.04873038, 76533.61639119,\n",
       "       76137.05187808, 75763.67224726, 75408.36921254, 75060.29203352,\n",
       "       74705.08008762, 74327.06095062, 73912.39811147, 73459.68980051,\n",
       "       72980.99300311, 72500.1523082 , 72047.06896728, 71648.73643971,\n",
       "       71312.14089724, 71026.23610605, 70766.58620927, 70500.43381813,\n",
       "       70192.65261544, 69822.34189458, 69383.87387503, 68886.4549908 ,\n",
       "       68350.72458275, 67800.5084583 , 67248.42733991, 66692.85433281,\n",
       "       66116.38482286, 64708.52088425, 82080.05861292])"
      ]
     },
     "execution_count": 70,
     "metadata": {},
     "output_type": "execute_result"
    }
   ],
   "source": [
    "projections_f[4,:]"
   ]
  },
  {
   "cell_type": "markdown",
   "id": "e53c498f",
   "metadata": {},
   "source": [
    "### 2.7 In a loop or otherwise (e.g. exponentiating the LM), to create multi-year projections"
   ]
  },
  {
   "cell_type": "code",
   "execution_count": 76,
   "id": "a1a936ce",
   "metadata": {},
   "outputs": [
    {
     "data": {
      "image/png": "[encoded data removed]",
      "text/plain": [
       "<Figure size 1200x600 with 1 Axes>"
      ]
     },
     "metadata": {},
     "output_type": "display_data"
    }
   ],
   "source": [
    "import matplotlib.pyplot as plt\n",
    "# Visualize projection\n",
    "total_pop_f = projections_f.sum(axis=1)\n",
    "\n",
    "plt.figure(figsize=(12, 6))\n",
    "plt.plot(years_lst, total_pop_f / 1000, linewidth=2.5, color='darkblue', marker='o', markersize=3)\n",
    "plt.xlabel('Year', fontsize=12)\n",
    "plt.ylabel('Female Population (thousands)', fontsize=12)\n",
    "plt.title(f'Female Population Projection - {dpto}\\n'\n",
    "          f'Leslie Matrix Cohort-Component Method',\n",
    "          fontsize=14, fontweight='bold')\n",
    "plt.grid(True, alpha=0.3)\n",
    "plt.tight_layout()\n",
    "plt.show()\n"
   ]
  },
  {
   "cell_type": "markdown",
   "id": "3c0a0553",
   "metadata": {},
   "source": [
    "## 3. Section 3: Repeat this exercise, but instead for Males. Note, here, that we need a MF leslie matrix to survive the women giving births to males. We also need to adjust our SRB!"
   ]
  },
  {
   "cell_type": "code",
   "execution_count": 12,
   "id": "2d70ed6a",
   "metadata": {},
   "outputs": [],
   "source": [
    "\n",
    "# ---- code cell ----\n",
    "print(\"\\n\" + \"=\"*60)\n",
    "print(\"Section 3: Building Leslie Matrix for MALES\")\n",
    "print(\"=\"*60)\n",
    "\n",
    "# Get MALE data (SEXO = 1)\n",
    "df_male = df_dpto[df_dpto['SEXO'] == 1.0].copy()\n",
    "\n",
    "df_pop_m = df_male[(df_male['VARIABLE'] == 'poblacion_total') &\n",
    "                   (df_male['FUENTE'] == f'censo_{year}')].copy()\n",
    "\n",
    "df_deaths_m = df_male[(df_male['VARIABLE'] == 'defunciones') &\n",
    "                      (df_male['FUENTE'] == f'censo_{year}')].copy()\n",
    "\n",
    "# Unabridge male data\n",
    "df_deaths_m_fixed = _collapse_defunciones_01_24_to_04(df_deaths_m)\n",
    "\n",
    "df_pop_m_1yr = unabridge_df(\n",
    "    df_pop_m,\n",
    "    series_keys=['DPTO_NOMBRE', 'ANO', 'SEXO', 'VARIABLE', 'FUENTE'],\n",
    "    value_col='VALOR',\n",
    "    ridge=1e-6\n",
    ")\n",
    "\n",
    "df_deaths_m_1yr = unabridge_df(\n",
    "    df_deaths_m_fixed,\n",
    "    series_keys=['DPTO_NOMBRE', 'ANO', 'SEXO', 'VARIABLE', 'FUENTE'],\n",
    "    value_col='VALOR',\n",
    "    ridge=1e-6\n",
    ")\n",
    "\n",
    "# Build male life table\n",
    "pop_m_by_age = df_pop_m_1yr.groupby('EDAD')['VALOR'].sum()\n",
    "deaths_m_by_age = df_deaths_m_1yr.groupby('EDAD')['VALOR'].sum()\n",
    "\n",
    "# Filter out NaN ages and align to expected age range\n",
    "pop_m_by_age = pop_m_by_age[pop_m_by_age.index.notna()]\n",
    "deaths_m_by_age = deaths_m_by_age[deaths_m_by_age.index.notna()]\n",
    "\n",
    "# Reindex to ensure we have all ages\n",
    "pop_m_by_age = pop_m_by_age.reindex(ages_1yr, fill_value=0.0)\n",
    "deaths_m_by_age = deaths_m_by_age.reindex(ages_1yr, fill_value=0.0)\n",
    "\n",
    "lt_male = make_lifetable(\n",
    "    ages=pop_m_by_age.index,  # Pass the age index\n",
    "    population=pop_m_by_age.values,\n",
    "    deaths=deaths_m_by_age.values,\n",
    "    radix=100000,\n",
    "    use_ma=True,\n",
    "    ma_window=5\n",
    ")\n",
    "\n",
    "print(f\"\\n✓ Male life table calculated:\")\n",
    "print(f\"  Male life expectancy (e_0): {lt_male.iloc[0]['ex']:.2f} years\")\n",
    "\n",
    "# Calculate male survivorship ratios\n",
    "survivorship_m = np.zeros(len(ages_1yr))\n",
    "lx_values_m = lt_male['lx'].values\n",
    "\n",
    "for i in range(len(ages_1yr) - 1):\n",
    "    if lx_values_m[i] > 0:\n",
    "        survivorship_m[i] = lx_values_m[i + 1] / lx_values_m[i]\n",
    "    else:\n",
    "        survivorship_m[i] = 0.0\n",
    "\n",
    "ex_last_m = lt_male.iloc[-1]['ex']\n",
    "if ex_last_m > 0:\n",
    "    survivorship_m[-1] = np.exp(-1.0 / ex_last_m)\n",
    "else:\n",
    "    survivorship_m[-1] = 0.0\n",
    "\n",
    "# Create male population vector\n",
    "population_m = pop_m_by_age.reindex(ages_1yr, fill_value=0.0).values\n",
    "\n",
    "print(f\"  Total male population: {population_m.sum():,.0f}\")\n",
    "print(f\"  Infant survival (age 0→1): {survivorship_m[0]:.4f}\")\n",
    "\n",
    "# Build male Leslie matrix\n",
    "# Note: Males are born from FEMALE fertility, so first row uses female ASFR\n",
    "leslie_matrix_M = np.zeros((n_ages, n_ages))\n",
    "\n",
    "# Male births from female fertility (proportion male = SRB / (1 + SRB))\n",
    "prop_male = srb / (1.0 + srb)\n",
    "\n",
    "# Survived ASFR for male births\n",
    "survived_asfr_m = np.zeros(n_ages)\n",
    "for i, age_str in enumerate(reproductive_ages):\n",
    "    age_idx = int(age_str)\n",
    "    if age_idx < n_ages - 1:\n",
    "        survived_asfr_m[age_idx] = (\n",
    "            asfr_values[i] * prop_male *\n",
    "            (survivorship_m[age_idx] + survivorship_m[age_idx + 1]) / 2\n",
    "        )\n",
    "    else:\n",
    "        survived_asfr_m[age_idx] = asfr_values[i] * prop_male * survivorship_m[age_idx]\n",
    "\n",
    "# Place in first row\n",
    "leslie_matrix_M[0, :] = survived_asfr_m\n",
    "\n",
    "# Male survivorship on sub-diagonal\n",
    "for i in range(n_ages - 1):\n",
    "    leslie_matrix_M[i + 1, i] = survivorship_m[i]\n",
    "\n",
    "leslie_matrix_M[-1, -1] = survivorship_m[-1]\n",
    "\n",
    "print(f\"\\n✓ Male Leslie Matrix complete\")\n",
    "print(f\"  Proportion male births: {prop_male:.3f}\")\n",
    "\n",
    "# Project males\n",
    "projections_m = np.zeros((projection_years + 1, n_ages))\n",
    "projections_m[0, :] = population_m\n",
    "\n",
    "for t in range(projection_years):\n",
    "    projections_m[t + 1, :] = leslie_matrix_M @ projections_m[t, :]\n",
    "\n",
    "total_pop_m = projections_m.sum(axis=1)\n",
    "\n",
    "print(f\"\\n✓ Male projections complete:\")\n",
    "print(f\"  Start year {year}:        {total_pop_m[0]:,.0f}\")\n",
    "print(f\"  End year {year+projection_years}:          {total_pop_m[-1]:,.0f}\")\n"
   ]
  },
  {
   "cell_type": "markdown",
   "id": "52621378",
   "metadata": {},
   "source": [
    "## 4. Section 4: Combine projections from Males and Females to give a total population projection for multiple years. Visualise this."
   ]
  },
  {
   "cell_type": "code",
   "execution_count": 13,
   "id": "e1c7ca70",
   "metadata": {},
   "outputs": [],
   "source": [
    "# <Your answer goes here>"
   ]
  },
  {
   "cell_type": "markdown",
   "id": "b5129dfd",
   "metadata": {},
   "source": [
    "## 5. Section 5: Add half of the migration array to the exposures for both mortality and fertility, male and female."
   ]
  },
  {
   "cell_type": "code",
   "execution_count": 14,
   "id": "5de920de",
   "metadata": {},
   "outputs": [],
   "source": [
    "# <Your answer goes here>"
   ]
  },
  {
   "cell_type": "markdown",
   "id": "66600930",
   "metadata": {},
   "source": [
    "## 6. Section 6: Incorporate MA mortality smoothing and target mortality improvements/fertility adjustments over time."
   ]
  },
  {
   "cell_type": "code",
   "execution_count": 15,
   "id": "6baf3b18",
   "metadata": {},
   "outputs": [],
   "source": [
    "# <Your answer goes here>"
   ]
  },
  {
   "cell_type": "markdown",
   "id": "b34bfddd",
   "metadata": {},
   "source": [
    "## 7. Section 7. Account for Omissions. Congratulations; you've just replicated PyCCM :)"
   ]
  },
  {
   "cell_type": "code",
   "execution_count": 16,
   "id": "5e3b1084",
   "metadata": {},
   "outputs": [],
   "source": [
    "# <Your answer goes here>"
   ]
  }
 ],
 "metadata": {
  "kernelspec": {
   "display_name": "Python 3 (ipykernel)",
   "language": "python",
   "name": "python3"
  },
  "language_info": {
   "codemirror_mode": {
    "name": "ipython",
    "version": 3
   },
   "file_extension": ".py",
   "mimetype": "text/x-python",
   "name": "python",
   "nbconvert_exporter": "python",
   "pygments_lexer": "ipython3",
   "version": "3.11.13"
  }
 },
 "nbformat": 4,
 "nbformat_minor": 5
}
